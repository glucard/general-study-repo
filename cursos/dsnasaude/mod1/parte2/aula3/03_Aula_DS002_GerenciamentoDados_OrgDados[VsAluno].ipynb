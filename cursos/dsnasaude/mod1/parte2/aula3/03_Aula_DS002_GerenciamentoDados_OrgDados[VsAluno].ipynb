{
  "cells": [
    {
      "cell_type": "markdown",
      "id": "LH-87cF3IBld",
      "metadata": {
        "id": "LH-87cF3IBld"
      },
      "source": [
        "***\n",
        "# <font color=green size=10>**DS-002 - GERENCIAMENTO DE DADOS PARA ANÁLISE - AULA 03**</font>\n",
        "***"
      ]
    },
    {
      "cell_type": "markdown",
      "id": "e6tRhZaIrq0x",
      "metadata": {
        "id": "e6tRhZaIrq0x"
      },
      "source": [
        "## <font color=green size=6>**ANÁLISE DE DADOS - ESTATÍSTICA DESCRITIVA BÁSICA**</font>"
      ]
    },
    {
      "cell_type": "code",
      "execution_count": 3,
      "id": "_A4arSZ8L4s0",
      "metadata": {
        "cellView": "form",
        "id": "_A4arSZ8L4s0"
      },
      "outputs": [],
      "source": [
        "# @title Reiniciando notebook\n",
        "import pandas as pd\n",
        "\n",
        "dados = pd.read_csv(r'dengue.csv')\n",
        "\n",
        "df_dengue = pd.DataFrame(dados, columns = ['Year', 'State', 'Population', 'Region', 'Min_Tmp',\n",
        "                                               'Max_Tmp', 'Change_Tmp', 'Mean_Tmp', 'Percipitation','Cases'])\n",
        "df_dengue = df_dengue.dropna()\n",
        "\n",
        "mediana = df_dengue['Cases'].median()\n",
        "def ident_se_muitos_casos(casos):\n",
        "  if casos > mediana:\n",
        "    return 1\n",
        "  else:\n",
        "    return 0\n",
        "\n",
        "df_dengue['SeveralCases'] = df_dengue['Cases'].apply(ident_se_muitos_casos)\n",
        "\n",
        "def estado_para_cod(estado):\n",
        "  if estado == 'Distrito Federal':\n",
        "    return 1\n",
        "  elif estado == 'Minas Gerais':\n",
        "    return 2\n",
        "  elif estado == 'Parana':\n",
        "    return 3\n",
        "  else:\n",
        "    return 0\n",
        "\n",
        "df_dengue['FromMainStates'] = df_dengue['State'].apply(estado_para_cod)\n",
        "\n",
        "def div_duas_regioes(regiao):\n",
        "  if regiao == 'N' or regiao == 'NE' or regiao == 'CO':\n",
        "    return 1\n",
        "  else:\n",
        "    return 2\n",
        "\n",
        "df_dengue['FromNNECOorSSE'] = df_dengue['Region'].apply(div_duas_regioes)\n",
        "\n",
        "df_dengue['%CasesInPop'] = (df_dengue['Cases'] / df_dengue['Population'])*100"
      ]
    },
    {
      "cell_type": "markdown",
      "id": "RA22TkgQKC0z",
      "metadata": {
        "id": "RA22TkgQKC0z"
      },
      "source": [
        "##### **01. Calcule as principais estatísticas descritivas relacionadas ao seu banco de dados.**"
      ]
    },
    {
      "cell_type": "code",
      "execution_count": 4,
      "id": "eTc9aSaZh_Bv",
      "metadata": {
        "id": "eTc9aSaZh_Bv"
      },
      "outputs": [
        {
          "data": {
            "text/html": [
              "<div>\n",
              "<style scoped>\n",
              "    .dataframe tbody tr th:only-of-type {\n",
              "        vertical-align: middle;\n",
              "    }\n",
              "\n",
              "    .dataframe tbody tr th {\n",
              "        vertical-align: top;\n",
              "    }\n",
              "\n",
              "    .dataframe thead th {\n",
              "        text-align: right;\n",
              "    }\n",
              "</style>\n",
              "<table border=\"1\" class=\"dataframe\">\n",
              "  <thead>\n",
              "    <tr style=\"text-align: right;\">\n",
              "      <th></th>\n",
              "      <th>Year</th>\n",
              "      <th>Population</th>\n",
              "      <th>Min_Tmp</th>\n",
              "      <th>Max_Tmp</th>\n",
              "      <th>Change_Tmp</th>\n",
              "      <th>Mean_Tmp</th>\n",
              "      <th>Percipitation</th>\n",
              "      <th>Cases</th>\n",
              "      <th>SeveralCases</th>\n",
              "      <th>FromMainStates</th>\n",
              "      <th>FromNNECOorSSE</th>\n",
              "      <th>%CasesInPop</th>\n",
              "    </tr>\n",
              "  </thead>\n",
              "  <tbody>\n",
              "    <tr>\n",
              "      <th>count</th>\n",
              "      <td>258.000000</td>\n",
              "      <td>2.580000e+02</td>\n",
              "      <td>258.000000</td>\n",
              "      <td>258.000000</td>\n",
              "      <td>258.000000</td>\n",
              "      <td>258.000000</td>\n",
              "      <td>258.000000</td>\n",
              "      <td>2.580000e+02</td>\n",
              "      <td>258.000000</td>\n",
              "      <td>258.000000</td>\n",
              "      <td>258.000000</td>\n",
              "      <td>258.000000</td>\n",
              "    </tr>\n",
              "    <tr>\n",
              "      <th>mean</th>\n",
              "      <td>2016.430233</td>\n",
              "      <td>7.726080e+06</td>\n",
              "      <td>19.670000</td>\n",
              "      <td>30.342519</td>\n",
              "      <td>10.672519</td>\n",
              "      <td>24.981279</td>\n",
              "      <td>1375.873953</td>\n",
              "      <td>4.808953e+04</td>\n",
              "      <td>0.500000</td>\n",
              "      <td>0.232558</td>\n",
              "      <td>1.255814</td>\n",
              "      <td>0.589880</td>\n",
              "    </tr>\n",
              "    <tr>\n",
              "      <th>std</th>\n",
              "      <td>2.777932</td>\n",
              "      <td>9.051169e+06</td>\n",
              "      <td>2.569256</td>\n",
              "      <td>2.444746</td>\n",
              "      <td>0.968027</td>\n",
              "      <td>2.460819</td>\n",
              "      <td>588.433824</td>\n",
              "      <td>1.169770e+05</td>\n",
              "      <td>0.500972</td>\n",
              "      <td>0.700324</td>\n",
              "      <td>0.437166</td>\n",
              "      <td>0.758514</td>\n",
              "    </tr>\n",
              "    <tr>\n",
              "      <th>min</th>\n",
              "      <td>2012.000000</td>\n",
              "      <td>4.695240e+05</td>\n",
              "      <td>12.270000</td>\n",
              "      <td>23.030000</td>\n",
              "      <td>8.320000</td>\n",
              "      <td>17.620000</td>\n",
              "      <td>328.230000</td>\n",
              "      <td>1.000000e+00</td>\n",
              "      <td>0.000000</td>\n",
              "      <td>0.000000</td>\n",
              "      <td>1.000000</td>\n",
              "      <td>0.000012</td>\n",
              "    </tr>\n",
              "    <tr>\n",
              "      <th>25%</th>\n",
              "      <td>2014.000000</td>\n",
              "      <td>2.781680e+06</td>\n",
              "      <td>17.755000</td>\n",
              "      <td>28.952500</td>\n",
              "      <td>10.132500</td>\n",
              "      <td>23.347500</td>\n",
              "      <td>862.505000</td>\n",
              "      <td>2.510250e+03</td>\n",
              "      <td>0.000000</td>\n",
              "      <td>0.000000</td>\n",
              "      <td>1.000000</td>\n",
              "      <td>0.086606</td>\n",
              "    </tr>\n",
              "    <tr>\n",
              "      <th>50%</th>\n",
              "      <td>2016.000000</td>\n",
              "      <td>3.997956e+06</td>\n",
              "      <td>20.200000</td>\n",
              "      <td>31.015000</td>\n",
              "      <td>10.725000</td>\n",
              "      <td>25.610000</td>\n",
              "      <td>1374.880000</td>\n",
              "      <td>1.137000e+04</td>\n",
              "      <td>0.500000</td>\n",
              "      <td>0.000000</td>\n",
              "      <td>1.000000</td>\n",
              "      <td>0.302892</td>\n",
              "    </tr>\n",
              "    <tr>\n",
              "      <th>75%</th>\n",
              "      <td>2019.000000</td>\n",
              "      <td>9.328312e+06</td>\n",
              "      <td>21.850000</td>\n",
              "      <td>32.142500</td>\n",
              "      <td>11.280000</td>\n",
              "      <td>26.907500</td>\n",
              "      <td>1817.225000</td>\n",
              "      <td>3.644525e+04</td>\n",
              "      <td>1.000000</td>\n",
              "      <td>0.000000</td>\n",
              "      <td>2.000000</td>\n",
              "      <td>0.823735</td>\n",
              "    </tr>\n",
              "    <tr>\n",
              "      <th>max</th>\n",
              "      <td>2021.000000</td>\n",
              "      <td>4.664913e+07</td>\n",
              "      <td>22.910000</td>\n",
              "      <td>33.960000</td>\n",
              "      <td>13.120000</td>\n",
              "      <td>28.000000</td>\n",
              "      <td>2750.900000</td>\n",
              "      <td>1.033012e+06</td>\n",
              "      <td>1.000000</td>\n",
              "      <td>3.000000</td>\n",
              "      <td>2.000000</td>\n",
              "      <td>4.657000</td>\n",
              "    </tr>\n",
              "  </tbody>\n",
              "</table>\n",
              "</div>"
            ],
            "text/plain": [
              "              Year    Population     Min_Tmp     Max_Tmp  Change_Tmp  \\\n",
              "count   258.000000  2.580000e+02  258.000000  258.000000  258.000000   \n",
              "mean   2016.430233  7.726080e+06   19.670000   30.342519   10.672519   \n",
              "std       2.777932  9.051169e+06    2.569256    2.444746    0.968027   \n",
              "min    2012.000000  4.695240e+05   12.270000   23.030000    8.320000   \n",
              "25%    2014.000000  2.781680e+06   17.755000   28.952500   10.132500   \n",
              "50%    2016.000000  3.997956e+06   20.200000   31.015000   10.725000   \n",
              "75%    2019.000000  9.328312e+06   21.850000   32.142500   11.280000   \n",
              "max    2021.000000  4.664913e+07   22.910000   33.960000   13.120000   \n",
              "\n",
              "         Mean_Tmp  Percipitation         Cases  SeveralCases  FromMainStates  \\\n",
              "count  258.000000     258.000000  2.580000e+02    258.000000      258.000000   \n",
              "mean    24.981279    1375.873953  4.808953e+04      0.500000        0.232558   \n",
              "std      2.460819     588.433824  1.169770e+05      0.500972        0.700324   \n",
              "min     17.620000     328.230000  1.000000e+00      0.000000        0.000000   \n",
              "25%     23.347500     862.505000  2.510250e+03      0.000000        0.000000   \n",
              "50%     25.610000    1374.880000  1.137000e+04      0.500000        0.000000   \n",
              "75%     26.907500    1817.225000  3.644525e+04      1.000000        0.000000   \n",
              "max     28.000000    2750.900000  1.033012e+06      1.000000        3.000000   \n",
              "\n",
              "       FromNNECOorSSE  %CasesInPop  \n",
              "count      258.000000   258.000000  \n",
              "mean         1.255814     0.589880  \n",
              "std          0.437166     0.758514  \n",
              "min          1.000000     0.000012  \n",
              "25%          1.000000     0.086606  \n",
              "50%          1.000000     0.302892  \n",
              "75%          2.000000     0.823735  \n",
              "max          2.000000     4.657000  "
            ]
          },
          "execution_count": 4,
          "metadata": {},
          "output_type": "execute_result"
        }
      ],
      "source": [
        "df_dengue.describe()"
      ]
    },
    {
      "cell_type": "markdown",
      "id": "YYs5LMn6Lum4",
      "metadata": {
        "id": "YYs5LMn6Lum4"
      },
      "source": [
        "> Podemos selecionar as colunas de interesse para a análise."
      ]
    },
    {
      "cell_type": "code",
      "execution_count": 5,
      "id": "wLvDgTlviAFX",
      "metadata": {
        "id": "wLvDgTlviAFX"
      },
      "outputs": [
        {
          "data": {
            "text/html": [
              "<div>\n",
              "<style scoped>\n",
              "    .dataframe tbody tr th:only-of-type {\n",
              "        vertical-align: middle;\n",
              "    }\n",
              "\n",
              "    .dataframe tbody tr th {\n",
              "        vertical-align: top;\n",
              "    }\n",
              "\n",
              "    .dataframe thead th {\n",
              "        text-align: right;\n",
              "    }\n",
              "</style>\n",
              "<table border=\"1\" class=\"dataframe\">\n",
              "  <thead>\n",
              "    <tr style=\"text-align: right;\">\n",
              "      <th></th>\n",
              "      <th>Population</th>\n",
              "      <th>Min_Tmp</th>\n",
              "      <th>Max_Tmp</th>\n",
              "      <th>Change_Tmp</th>\n",
              "      <th>Mean_Tmp</th>\n",
              "      <th>Percipitation</th>\n",
              "      <th>Cases</th>\n",
              "      <th>%CasesInPop</th>\n",
              "    </tr>\n",
              "  </thead>\n",
              "  <tbody>\n",
              "    <tr>\n",
              "      <th>count</th>\n",
              "      <td>2.580000e+02</td>\n",
              "      <td>258.000000</td>\n",
              "      <td>258.000000</td>\n",
              "      <td>258.000000</td>\n",
              "      <td>258.000000</td>\n",
              "      <td>258.000000</td>\n",
              "      <td>2.580000e+02</td>\n",
              "      <td>258.000000</td>\n",
              "    </tr>\n",
              "    <tr>\n",
              "      <th>mean</th>\n",
              "      <td>7.726080e+06</td>\n",
              "      <td>19.670000</td>\n",
              "      <td>30.342519</td>\n",
              "      <td>10.672519</td>\n",
              "      <td>24.981279</td>\n",
              "      <td>1375.873953</td>\n",
              "      <td>4.808953e+04</td>\n",
              "      <td>0.589880</td>\n",
              "    </tr>\n",
              "    <tr>\n",
              "      <th>std</th>\n",
              "      <td>9.051169e+06</td>\n",
              "      <td>2.569256</td>\n",
              "      <td>2.444746</td>\n",
              "      <td>0.968027</td>\n",
              "      <td>2.460819</td>\n",
              "      <td>588.433824</td>\n",
              "      <td>1.169770e+05</td>\n",
              "      <td>0.758514</td>\n",
              "    </tr>\n",
              "    <tr>\n",
              "      <th>min</th>\n",
              "      <td>4.695240e+05</td>\n",
              "      <td>12.270000</td>\n",
              "      <td>23.030000</td>\n",
              "      <td>8.320000</td>\n",
              "      <td>17.620000</td>\n",
              "      <td>328.230000</td>\n",
              "      <td>1.000000e+00</td>\n",
              "      <td>0.000012</td>\n",
              "    </tr>\n",
              "    <tr>\n",
              "      <th>25%</th>\n",
              "      <td>2.781680e+06</td>\n",
              "      <td>17.755000</td>\n",
              "      <td>28.952500</td>\n",
              "      <td>10.132500</td>\n",
              "      <td>23.347500</td>\n",
              "      <td>862.505000</td>\n",
              "      <td>2.510250e+03</td>\n",
              "      <td>0.086606</td>\n",
              "    </tr>\n",
              "    <tr>\n",
              "      <th>50%</th>\n",
              "      <td>3.997956e+06</td>\n",
              "      <td>20.200000</td>\n",
              "      <td>31.015000</td>\n",
              "      <td>10.725000</td>\n",
              "      <td>25.610000</td>\n",
              "      <td>1374.880000</td>\n",
              "      <td>1.137000e+04</td>\n",
              "      <td>0.302892</td>\n",
              "    </tr>\n",
              "    <tr>\n",
              "      <th>75%</th>\n",
              "      <td>9.328312e+06</td>\n",
              "      <td>21.850000</td>\n",
              "      <td>32.142500</td>\n",
              "      <td>11.280000</td>\n",
              "      <td>26.907500</td>\n",
              "      <td>1817.225000</td>\n",
              "      <td>3.644525e+04</td>\n",
              "      <td>0.823735</td>\n",
              "    </tr>\n",
              "    <tr>\n",
              "      <th>max</th>\n",
              "      <td>4.664913e+07</td>\n",
              "      <td>22.910000</td>\n",
              "      <td>33.960000</td>\n",
              "      <td>13.120000</td>\n",
              "      <td>28.000000</td>\n",
              "      <td>2750.900000</td>\n",
              "      <td>1.033012e+06</td>\n",
              "      <td>4.657000</td>\n",
              "    </tr>\n",
              "  </tbody>\n",
              "</table>\n",
              "</div>"
            ],
            "text/plain": [
              "         Population     Min_Tmp     Max_Tmp  Change_Tmp    Mean_Tmp  \\\n",
              "count  2.580000e+02  258.000000  258.000000  258.000000  258.000000   \n",
              "mean   7.726080e+06   19.670000   30.342519   10.672519   24.981279   \n",
              "std    9.051169e+06    2.569256    2.444746    0.968027    2.460819   \n",
              "min    4.695240e+05   12.270000   23.030000    8.320000   17.620000   \n",
              "25%    2.781680e+06   17.755000   28.952500   10.132500   23.347500   \n",
              "50%    3.997956e+06   20.200000   31.015000   10.725000   25.610000   \n",
              "75%    9.328312e+06   21.850000   32.142500   11.280000   26.907500   \n",
              "max    4.664913e+07   22.910000   33.960000   13.120000   28.000000   \n",
              "\n",
              "       Percipitation         Cases  %CasesInPop  \n",
              "count     258.000000  2.580000e+02   258.000000  \n",
              "mean     1375.873953  4.808953e+04     0.589880  \n",
              "std       588.433824  1.169770e+05     0.758514  \n",
              "min       328.230000  1.000000e+00     0.000012  \n",
              "25%       862.505000  2.510250e+03     0.086606  \n",
              "50%      1374.880000  1.137000e+04     0.302892  \n",
              "75%      1817.225000  3.644525e+04     0.823735  \n",
              "max      2750.900000  1.033012e+06     4.657000  "
            ]
          },
          "execution_count": 5,
          "metadata": {},
          "output_type": "execute_result"
        }
      ],
      "source": [
        "df_dengue[['Population',\n",
        "           'Min_Tmp',\n",
        "           'Max_Tmp',\n",
        "           'Change_Tmp',\n",
        "           'Mean_Tmp',\n",
        "           'Percipitation',\n",
        "           'Cases',\n",
        "           '%CasesInPop']].describe()"
      ]
    },
    {
      "cell_type": "markdown",
      "id": "63orEfPlNZQj",
      "metadata": {
        "id": "63orEfPlNZQj"
      },
      "source": [
        "> A notação `e` significa '10 elevado a'. O `+` significa que a potência é positiva e o `02` significa que o número 10 deve ser elevado ao quadrado."
      ]
    },
    {
      "cell_type": "markdown",
      "id": "xcTInKZSOOrc",
      "metadata": {
        "id": "xcTInKZSOOrc"
      },
      "source": [
        "##### **02. Calcule a soma de casos de dengue por ano.**"
      ]
    },
    {
      "cell_type": "code",
      "execution_count": 12,
      "id": "QEAi9I22iEWq",
      "metadata": {
        "id": "QEAi9I22iEWq"
      },
      "outputs": [
        {
          "data": {
            "text/html": [
              "<div>\n",
              "<style scoped>\n",
              "    .dataframe tbody tr th:only-of-type {\n",
              "        vertical-align: middle;\n",
              "    }\n",
              "\n",
              "    .dataframe tbody tr th {\n",
              "        vertical-align: top;\n",
              "    }\n",
              "\n",
              "    .dataframe thead th {\n",
              "        text-align: right;\n",
              "    }\n",
              "</style>\n",
              "<table border=\"1\" class=\"dataframe\">\n",
              "  <thead>\n",
              "    <tr style=\"text-align: right;\">\n",
              "      <th></th>\n",
              "      <th>Cases</th>\n",
              "    </tr>\n",
              "    <tr>\n",
              "      <th>Year</th>\n",
              "      <th></th>\n",
              "    </tr>\n",
              "  </thead>\n",
              "  <tbody>\n",
              "    <tr>\n",
              "      <th>2012</th>\n",
              "      <td>684</td>\n",
              "    </tr>\n",
              "    <tr>\n",
              "      <th>2013</th>\n",
              "      <td>2011699</td>\n",
              "    </tr>\n",
              "    <tr>\n",
              "      <th>2014</th>\n",
              "      <td>962070</td>\n",
              "    </tr>\n",
              "    <tr>\n",
              "      <th>2015</th>\n",
              "      <td>2388234</td>\n",
              "    </tr>\n",
              "    <tr>\n",
              "      <th>2016</th>\n",
              "      <td>2302902</td>\n",
              "    </tr>\n",
              "    <tr>\n",
              "      <th>2017</th>\n",
              "      <td>518772</td>\n",
              "    </tr>\n",
              "    <tr>\n",
              "      <th>2018</th>\n",
              "      <td>478542</td>\n",
              "    </tr>\n",
              "    <tr>\n",
              "      <th>2019</th>\n",
              "      <td>2265740</td>\n",
              "    </tr>\n",
              "    <tr>\n",
              "      <th>2020</th>\n",
              "      <td>1477825</td>\n",
              "    </tr>\n",
              "    <tr>\n",
              "      <th>2021</th>\n",
              "      <td>630</td>\n",
              "    </tr>\n",
              "  </tbody>\n",
              "</table>\n",
              "</div>"
            ],
            "text/plain": [
              "        Cases\n",
              "Year         \n",
              "2012      684\n",
              "2013  2011699\n",
              "2014   962070\n",
              "2015  2388234\n",
              "2016  2302902\n",
              "2017   518772\n",
              "2018   478542\n",
              "2019  2265740\n",
              "2020  1477825\n",
              "2021      630"
            ]
          },
          "execution_count": 12,
          "metadata": {},
          "output_type": "execute_result"
        }
      ],
      "source": [
        "df_dengue.groupby(\"Year\")['Cases'].sum().to_frame()"
      ]
    },
    {
      "cell_type": "markdown",
      "id": "BdS6U3n8QVCn",
      "metadata": {
        "id": "BdS6U3n8QVCn"
      },
      "source": [
        "> 1. Você pode usar o `.sort_values(ascending=True)` para ordernar os valores do menor para o maior caso.\n",
        "2. Você pode usar o `to_frame()` para transformar os resultados para o formato de dataframe."
      ]
    },
    {
      "cell_type": "markdown",
      "id": "dC8rAg3WRgV3",
      "metadata": {
        "id": "dC8rAg3WRgV3"
      },
      "source": [
        "##### **03. Identifique o valor máximo de casos de dengue por estado, ordenando do menor para o maior valor.**"
      ]
    },
    {
      "cell_type": "code",
      "execution_count": 28,
      "id": "kK0uUtThiHg8",
      "metadata": {
        "id": "kK0uUtThiHg8"
      },
      "outputs": [
        {
          "data": {
            "text/plain": [
              "State\n",
              "Amapa                     4434\n",
              "Roraima                   4851\n",
              "Rio Grande Do Sul         8336\n",
              "Piaui                    11243\n",
              "Sergipe                  14773\n",
              "Rondonia                 15614\n",
              "Para                     19473\n",
              "Santa Catarina           23043\n",
              "Amazonas                 23947\n",
              "Maranhao                 29890\n",
              "Tocantins                30901\n",
              "Alagoas                  33953\n",
              "Acre                     36795\n",
              "Paraiba                  44958\n",
              "Mato Grosso              46693\n",
              "Rio Grande Do Norte      63369\n",
              "Distrito Federal         64579\n",
              "Espirito Santo           83110\n",
              "Mato Grosso Do Sul       98924\n",
              "Ceara                   105880\n",
              "Bahia                   105995\n",
              "Pernambuco              172890\n",
              "Goias                   200448\n",
              "Rio De Janeiro          254654\n",
              "Parana                  359115\n",
              "Minas Gerais            666893\n",
              "Sao Paulo              1033012\n",
              "Name: Cases, dtype: int64"
            ]
          },
          "execution_count": 28,
          "metadata": {},
          "output_type": "execute_result"
        }
      ],
      "source": [
        "df_dengue.groupby(\"State\")[\"Cases\"].max().sort_values()"
      ]
    },
    {
      "cell_type": "markdown",
      "id": "NIKO9xbSTXCq",
      "metadata": {
        "id": "NIKO9xbSTXCq"
      },
      "source": [
        "##### **04. Identifique qual o valor mínimo de variação de temperatura e de casos de dengue em função do ano.**"
      ]
    },
    {
      "cell_type": "code",
      "execution_count": 32,
      "id": "IR4urM1giJn8",
      "metadata": {
        "id": "IR4urM1giJn8"
      },
      "outputs": [
        {
          "data": {
            "text/html": [
              "<div>\n",
              "<style scoped>\n",
              "    .dataframe tbody tr th:only-of-type {\n",
              "        vertical-align: middle;\n",
              "    }\n",
              "\n",
              "    .dataframe tbody tr th {\n",
              "        vertical-align: top;\n",
              "    }\n",
              "\n",
              "    .dataframe thead th {\n",
              "        text-align: right;\n",
              "    }\n",
              "</style>\n",
              "<table border=\"1\" class=\"dataframe\">\n",
              "  <thead>\n",
              "    <tr style=\"text-align: right;\">\n",
              "      <th></th>\n",
              "      <th>Change_Tmp</th>\n",
              "      <th>Cases</th>\n",
              "    </tr>\n",
              "    <tr>\n",
              "      <th>Year</th>\n",
              "      <th></th>\n",
              "      <th></th>\n",
              "    </tr>\n",
              "  </thead>\n",
              "  <tbody>\n",
              "    <tr>\n",
              "      <th>2012</th>\n",
              "      <td>9.25</td>\n",
              "      <td>1</td>\n",
              "    </tr>\n",
              "    <tr>\n",
              "      <th>2013</th>\n",
              "      <td>8.61</td>\n",
              "      <td>1154</td>\n",
              "    </tr>\n",
              "    <tr>\n",
              "      <th>2014</th>\n",
              "      <td>8.81</td>\n",
              "      <td>676</td>\n",
              "    </tr>\n",
              "    <tr>\n",
              "      <th>2015</th>\n",
              "      <td>9.01</td>\n",
              "      <td>46</td>\n",
              "    </tr>\n",
              "    <tr>\n",
              "      <th>2016</th>\n",
              "      <td>8.51</td>\n",
              "      <td>1930</td>\n",
              "    </tr>\n",
              "    <tr>\n",
              "      <th>2017</th>\n",
              "      <td>8.43</td>\n",
              "      <td>1347</td>\n",
              "    </tr>\n",
              "    <tr>\n",
              "      <th>2018</th>\n",
              "      <td>8.32</td>\n",
              "      <td>48</td>\n",
              "    </tr>\n",
              "    <tr>\n",
              "      <th>2019</th>\n",
              "      <td>8.60</td>\n",
              "      <td>915</td>\n",
              "    </tr>\n",
              "    <tr>\n",
              "      <th>2020</th>\n",
              "      <td>8.70</td>\n",
              "      <td>142</td>\n",
              "    </tr>\n",
              "    <tr>\n",
              "      <th>2021</th>\n",
              "      <td>8.64</td>\n",
              "      <td>1</td>\n",
              "    </tr>\n",
              "  </tbody>\n",
              "</table>\n",
              "</div>"
            ],
            "text/plain": [
              "      Change_Tmp  Cases\n",
              "Year                   \n",
              "2012        9.25      1\n",
              "2013        8.61   1154\n",
              "2014        8.81    676\n",
              "2015        9.01     46\n",
              "2016        8.51   1930\n",
              "2017        8.43   1347\n",
              "2018        8.32     48\n",
              "2019        8.60    915\n",
              "2020        8.70    142\n",
              "2021        8.64      1"
            ]
          },
          "execution_count": 32,
          "metadata": {},
          "output_type": "execute_result"
        }
      ],
      "source": [
        "df_dengue.groupby(\"Year\")[[\"Change_Tmp\", \"Cases\"]].min()"
      ]
    },
    {
      "cell_type": "markdown",
      "id": "YrlobIpwYMCR",
      "metadata": {
        "id": "YrlobIpwYMCR"
      },
      "source": [
        "##### **05. Calcule a média de casos de dengue, por estado, apenas nas linhas do DataFrame em que SeveralCases for igual a 1.**"
      ]
    },
    {
      "cell_type": "code",
      "execution_count": 36,
      "id": "uNhbU08uiLL_",
      "metadata": {
        "id": "uNhbU08uiLL_"
      },
      "outputs": [
        {
          "data": {
            "text/plain": [
              "State\n",
              "Acre                    19095.400000\n",
              "Alagoas                 23647.400000\n",
              "Amazonas                19630.500000\n",
              "Bahia                   61633.375000\n",
              "Ceara                   59314.500000\n",
              "Distrito Federal        32416.166667\n",
              "Espirito Santo          45699.571429\n",
              "Goias                  133084.250000\n",
              "Maranhao                29890.000000\n",
              "Mato Grosso             28232.714286\n",
              "Mato Grosso Do Sul      73109.200000\n",
              "Minas Gerais           300759.625000\n",
              "Para                    16889.500000\n",
              "Paraiba                 25278.000000\n",
              "Parana                 115003.375000\n",
              "Pernambuco              59001.000000\n",
              "Rio De Janeiro          81666.000000\n",
              "Rio Grande Do Norte     30478.571429\n",
              "Rondonia                14906.000000\n",
              "Santa Catarina          16279.666667\n",
              "Sao Paulo              445463.750000\n",
              "Sergipe                 13153.000000\n",
              "Tocantins               21162.400000\n",
              "Name: Cases, dtype: float64"
            ]
          },
          "execution_count": 36,
          "metadata": {},
          "output_type": "execute_result"
        }
      ],
      "source": [
        "df_dengue.query(\"SeveralCases == 1\").groupby(\"State\")['Cases'].mean()"
      ]
    },
    {
      "cell_type": "markdown",
      "id": "HpLUMK3MYatk",
      "metadata": {
        "id": "HpLUMK3MYatk"
      },
      "source": [
        "##### **06. Calcule a média de casos de dengue, por estado, apenas nas linhas do DataFrame em que SeveralCases for igual a 0.**"
      ]
    },
    {
      "cell_type": "code",
      "execution_count": 37,
      "id": "VHNIOZdRiM-O",
      "metadata": {
        "id": "VHNIOZdRiM-O"
      },
      "outputs": [
        {
          "data": {
            "text/plain": [
              "State\n",
              "Acre                   4770.600000\n",
              "Alagoas                2037.800000\n",
              "Amapa                  2103.625000\n",
              "Amazonas               6259.375000\n",
              "Bahia                     8.500000\n",
              "Ceara                     4.000000\n",
              "Distrito Federal       2685.750000\n",
              "Espirito Santo         3780.500000\n",
              "Goias                    31.500000\n",
              "Maranhao               4909.875000\n",
              "Mato Grosso            3401.000000\n",
              "Mato Grosso Do Sul     5525.400000\n",
              "Minas Gerais            111.500000\n",
              "Para                   7212.400000\n",
              "Paraiba                5122.250000\n",
              "Parana                   87.000000\n",
              "Pernambuco               10.000000\n",
              "Piaui                  6693.888889\n",
              "Rio De Janeiro         4258.000000\n",
              "Rio Grande Do Norte    3177.666667\n",
              "Rio Grande Do Sul      3196.777778\n",
              "Rondonia               2817.000000\n",
              "Roraima                2449.111111\n",
              "Santa Catarina         2000.000000\n",
              "Sao Paulo               103.500000\n",
              "Sergipe                3044.000000\n",
              "Tocantins              4856.600000\n",
              "Name: Cases, dtype: float64"
            ]
          },
          "execution_count": 37,
          "metadata": {},
          "output_type": "execute_result"
        }
      ],
      "source": [
        "df_dengue.query(\"SeveralCases == 0\").groupby(\"State\")['Cases'].mean()"
      ]
    },
    {
      "cell_type": "markdown",
      "id": "Ur4E8kuqe5r_",
      "metadata": {
        "id": "Ur4E8kuqe5r_"
      },
      "source": [
        "##### **07. Crie um novo DataFrame com esses valores dos Itens 05 e 06.**"
      ]
    },
    {
      "cell_type": "code",
      "execution_count": 43,
      "id": "tBVPIy-0iO1N",
      "metadata": {
        "id": "tBVPIy-0iO1N"
      },
      "outputs": [
        {
          "data": {
            "text/html": [
              "<div>\n",
              "<style scoped>\n",
              "    .dataframe tbody tr th:only-of-type {\n",
              "        vertical-align: middle;\n",
              "    }\n",
              "\n",
              "    .dataframe tbody tr th {\n",
              "        vertical-align: top;\n",
              "    }\n",
              "\n",
              "    .dataframe thead th {\n",
              "        text-align: right;\n",
              "    }\n",
              "</style>\n",
              "<table border=\"1\" class=\"dataframe\">\n",
              "  <thead>\n",
              "    <tr style=\"text-align: right;\">\n",
              "      <th></th>\n",
              "      <th>LesserSeveralCases</th>\n",
              "      <th>GreaterSeveralCases</th>\n",
              "    </tr>\n",
              "    <tr>\n",
              "      <th>State</th>\n",
              "      <th></th>\n",
              "      <th></th>\n",
              "    </tr>\n",
              "  </thead>\n",
              "  <tbody>\n",
              "    <tr>\n",
              "      <th>Acre</th>\n",
              "      <td>4770.600000</td>\n",
              "      <td>19095.400000</td>\n",
              "    </tr>\n",
              "    <tr>\n",
              "      <th>Alagoas</th>\n",
              "      <td>2037.800000</td>\n",
              "      <td>23647.400000</td>\n",
              "    </tr>\n",
              "    <tr>\n",
              "      <th>Amapa</th>\n",
              "      <td>2103.625000</td>\n",
              "      <td>NaN</td>\n",
              "    </tr>\n",
              "    <tr>\n",
              "      <th>Amazonas</th>\n",
              "      <td>6259.375000</td>\n",
              "      <td>19630.500000</td>\n",
              "    </tr>\n",
              "    <tr>\n",
              "      <th>Bahia</th>\n",
              "      <td>8.500000</td>\n",
              "      <td>61633.375000</td>\n",
              "    </tr>\n",
              "    <tr>\n",
              "      <th>Ceara</th>\n",
              "      <td>4.000000</td>\n",
              "      <td>59314.500000</td>\n",
              "    </tr>\n",
              "    <tr>\n",
              "      <th>Distrito Federal</th>\n",
              "      <td>2685.750000</td>\n",
              "      <td>32416.166667</td>\n",
              "    </tr>\n",
              "    <tr>\n",
              "      <th>Espirito Santo</th>\n",
              "      <td>3780.500000</td>\n",
              "      <td>45699.571429</td>\n",
              "    </tr>\n",
              "    <tr>\n",
              "      <th>Goias</th>\n",
              "      <td>31.500000</td>\n",
              "      <td>133084.250000</td>\n",
              "    </tr>\n",
              "    <tr>\n",
              "      <th>Maranhao</th>\n",
              "      <td>4909.875000</td>\n",
              "      <td>29890.000000</td>\n",
              "    </tr>\n",
              "    <tr>\n",
              "      <th>Mato Grosso</th>\n",
              "      <td>3401.000000</td>\n",
              "      <td>28232.714286</td>\n",
              "    </tr>\n",
              "    <tr>\n",
              "      <th>Mato Grosso Do Sul</th>\n",
              "      <td>5525.400000</td>\n",
              "      <td>73109.200000</td>\n",
              "    </tr>\n",
              "    <tr>\n",
              "      <th>Minas Gerais</th>\n",
              "      <td>111.500000</td>\n",
              "      <td>300759.625000</td>\n",
              "    </tr>\n",
              "    <tr>\n",
              "      <th>Para</th>\n",
              "      <td>7212.400000</td>\n",
              "      <td>16889.500000</td>\n",
              "    </tr>\n",
              "    <tr>\n",
              "      <th>Paraiba</th>\n",
              "      <td>5122.250000</td>\n",
              "      <td>25278.000000</td>\n",
              "    </tr>\n",
              "    <tr>\n",
              "      <th>Parana</th>\n",
              "      <td>87.000000</td>\n",
              "      <td>115003.375000</td>\n",
              "    </tr>\n",
              "    <tr>\n",
              "      <th>Pernambuco</th>\n",
              "      <td>10.000000</td>\n",
              "      <td>59001.000000</td>\n",
              "    </tr>\n",
              "    <tr>\n",
              "      <th>Piaui</th>\n",
              "      <td>6693.888889</td>\n",
              "      <td>NaN</td>\n",
              "    </tr>\n",
              "    <tr>\n",
              "      <th>Rio De Janeiro</th>\n",
              "      <td>4258.000000</td>\n",
              "      <td>81666.000000</td>\n",
              "    </tr>\n",
              "    <tr>\n",
              "      <th>Rio Grande Do Norte</th>\n",
              "      <td>3177.666667</td>\n",
              "      <td>30478.571429</td>\n",
              "    </tr>\n",
              "    <tr>\n",
              "      <th>Rio Grande Do Sul</th>\n",
              "      <td>3196.777778</td>\n",
              "      <td>NaN</td>\n",
              "    </tr>\n",
              "    <tr>\n",
              "      <th>Rondonia</th>\n",
              "      <td>2817.000000</td>\n",
              "      <td>14906.000000</td>\n",
              "    </tr>\n",
              "    <tr>\n",
              "      <th>Roraima</th>\n",
              "      <td>2449.111111</td>\n",
              "      <td>NaN</td>\n",
              "    </tr>\n",
              "    <tr>\n",
              "      <th>Santa Catarina</th>\n",
              "      <td>2000.000000</td>\n",
              "      <td>16279.666667</td>\n",
              "    </tr>\n",
              "    <tr>\n",
              "      <th>Sao Paulo</th>\n",
              "      <td>103.500000</td>\n",
              "      <td>445463.750000</td>\n",
              "    </tr>\n",
              "    <tr>\n",
              "      <th>Sergipe</th>\n",
              "      <td>3044.000000</td>\n",
              "      <td>13153.000000</td>\n",
              "    </tr>\n",
              "    <tr>\n",
              "      <th>Tocantins</th>\n",
              "      <td>4856.600000</td>\n",
              "      <td>21162.400000</td>\n",
              "    </tr>\n",
              "  </tbody>\n",
              "</table>\n",
              "</div>"
            ],
            "text/plain": [
              "                     LesserSeveralCases  GreaterSeveralCases\n",
              "State                                                       \n",
              "Acre                        4770.600000         19095.400000\n",
              "Alagoas                     2037.800000         23647.400000\n",
              "Amapa                       2103.625000                  NaN\n",
              "Amazonas                    6259.375000         19630.500000\n",
              "Bahia                          8.500000         61633.375000\n",
              "Ceara                          4.000000         59314.500000\n",
              "Distrito Federal            2685.750000         32416.166667\n",
              "Espirito Santo              3780.500000         45699.571429\n",
              "Goias                         31.500000        133084.250000\n",
              "Maranhao                    4909.875000         29890.000000\n",
              "Mato Grosso                 3401.000000         28232.714286\n",
              "Mato Grosso Do Sul          5525.400000         73109.200000\n",
              "Minas Gerais                 111.500000        300759.625000\n",
              "Para                        7212.400000         16889.500000\n",
              "Paraiba                     5122.250000         25278.000000\n",
              "Parana                        87.000000        115003.375000\n",
              "Pernambuco                    10.000000         59001.000000\n",
              "Piaui                       6693.888889                  NaN\n",
              "Rio De Janeiro              4258.000000         81666.000000\n",
              "Rio Grande Do Norte         3177.666667         30478.571429\n",
              "Rio Grande Do Sul           3196.777778                  NaN\n",
              "Rondonia                    2817.000000         14906.000000\n",
              "Roraima                     2449.111111                  NaN\n",
              "Santa Catarina              2000.000000         16279.666667\n",
              "Sao Paulo                    103.500000        445463.750000\n",
              "Sergipe                     3044.000000         13153.000000\n",
              "Tocantins                   4856.600000         21162.400000"
            ]
          },
          "execution_count": 43,
          "metadata": {},
          "output_type": "execute_result"
        }
      ],
      "source": [
        "ds_cases_mean_by_lesser_several_cases = df_dengue.query(\"SeveralCases == 0\").groupby(\"State\")['Cases'].mean()\n",
        "ds_cases_mean_by_greater_several_cases = df_dengue.query(\"SeveralCases == 1\").groupby(\"State\")['Cases'].mean()\n",
        "df_cases_mean_by_several_cases = pd.concat(\n",
        "    [\n",
        "        ds_cases_mean_by_lesser_several_cases,\n",
        "        ds_cases_mean_by_greater_several_cases\n",
        "    ], axis=1, keys=[\"LesserSeveralCases\",\"GreaterSeveralCases\"])\n",
        "df_cases_mean_by_several_cases\n"
      ]
    },
    {
      "cell_type": "code",
      "execution_count": null,
      "id": "i7KcD0f9iPCp",
      "metadata": {
        "id": "i7KcD0f9iPCp"
      },
      "outputs": [],
      "source": []
    },
    {
      "cell_type": "markdown",
      "id": "2x6z34F3Y7pq",
      "metadata": {
        "id": "2x6z34F3Y7pq"
      },
      "source": [
        "##### **08. Compare as médias de casos de dengue nos cenários com e sem muitos casos.**"
      ]
    },
    {
      "cell_type": "code",
      "execution_count": null,
      "id": "KiWo5SOUiSEK",
      "metadata": {
        "id": "KiWo5SOUiSEK"
      },
      "outputs": [],
      "source": []
    },
    {
      "cell_type": "markdown",
      "id": "dLbnoxphOBH9",
      "metadata": {
        "id": "dLbnoxphOBH9"
      },
      "source": [
        "##### **09. Calcule o percentual de casos de dengue superiores à mediana em cada um dos estados que, geralmente, mais possuem casos da doença.**"
      ]
    },
    {
      "cell_type": "code",
      "execution_count": null,
      "id": "Cv4KYpSsiUbT",
      "metadata": {
        "id": "Cv4KYpSsiUbT"
      },
      "outputs": [],
      "source": []
    },
    {
      "cell_type": "markdown",
      "id": "MU8u6bXYaMzk",
      "metadata": {
        "id": "MU8u6bXYaMzk"
      },
      "source": [
        "##### **10. Calcule o desvio padrão dos valores de casos de dengue e da variação de temperatura.**"
      ]
    },
    {
      "cell_type": "code",
      "execution_count": null,
      "id": "w9ZKUPu4iWQK",
      "metadata": {
        "id": "w9ZKUPu4iWQK"
      },
      "outputs": [],
      "source": []
    },
    {
      "cell_type": "code",
      "execution_count": null,
      "id": "XyfcrOyJiXvq",
      "metadata": {
        "id": "XyfcrOyJiXvq"
      },
      "outputs": [],
      "source": []
    },
    {
      "cell_type": "markdown",
      "id": "y8emoNAfZa98",
      "metadata": {
        "id": "y8emoNAfZa98"
      },
      "source": [
        "> Associado ou não ao groupby, **o Pandas nos oferece diversos cálculos estatísticos, tais como:** sum(), mean(), median(), mode(), var(), std(), max(), min(), quantile(0.25), quantile(0.75) e value_counts().\n",
        "\n",
        "> **Para cálculo de outliers, podemos usar a seguinte estratégia:**\n",
        "\n",
        "```\n",
        "# Exemplo de DataFrame\n",
        "dados = pd.DataFrame({'valores': [10, 15, 20, 25, 30, 100, 105, 110, 115]})\n",
        "\n",
        "# Cálculo dos quartis\n",
        "q1 = dados['valores'].quantile(0.25)\n",
        "q3 = dados['valores'].quantile(0.75)\n",
        "\n",
        "# Cálculo do IQR\n",
        "iqr = q3 - q1\n",
        "\n",
        "# Cálculo dos limites superior e inferior\n",
        "limite_inferior = q1 - 1.5 * iqr\n",
        "limite_superior = q3 + 1.5 * iqr\n",
        "\n",
        "# Identificação dos outliers\n",
        "outliers = dados[(dados['valores'] < limite_inferior) | (dados['valores'] > limite_superior)]\n",
        "```"
      ]
    },
    {
      "cell_type": "markdown",
      "id": "Fry_d_6rIuHk",
      "metadata": {
        "id": "Fry_d_6rIuHk"
      },
      "source": [
        "## <font color=green size=6>**TAREFA 03**</font>"
      ]
    },
    {
      "cell_type": "markdown",
      "id": "mj8XXKF1i1Ey",
      "metadata": {
        "id": "mj8XXKF1i1Ey"
      },
      "source": [
        "*Esta é a atividade que você fará nas suas horas de aula on-line.*\n",
        "\n",
        "**1. Usando a base de dados sobre casos de dengue no Brasil, `df_dengue`, calcule a média de precipitação em cada um dos dois conjuntos de regiões brasileiras (variável `FromNNECOorSSE`) e a quantidade de casos de dengue. Em seguida, faça o mesmo, mas calculando os valores mínimo e máximo.**"
      ]
    },
    {
      "cell_type": "code",
      "execution_count": null,
      "id": "ZFCeEmAOh4UW",
      "metadata": {
        "id": "ZFCeEmAOh4UW"
      },
      "outputs": [],
      "source": []
    },
    {
      "cell_type": "code",
      "execution_count": null,
      "id": "NFvohZqoh4fJ",
      "metadata": {
        "id": "NFvohZqoh4fJ"
      },
      "outputs": [],
      "source": []
    },
    {
      "cell_type": "code",
      "execution_count": null,
      "id": "dxB74yaNh4oE",
      "metadata": {
        "id": "dxB74yaNh4oE"
      },
      "outputs": [],
      "source": []
    }
  ],
  "metadata": {
    "colab": {
      "collapsed_sections": [
        "914744a5",
        "EQLPx0PWBZjG",
        "OB9B0qcUCWPR",
        "xyGotgm6rvE0",
        "wjxK-cZnvYkm",
        "7v32dHscvmE_",
        "efa7c580",
        "YXSIWf4-xnaD",
        "2zBCEZUrKyJY",
        "2eOg8jBqMkIp",
        "AkljV3AsOA9k",
        "yuEOzCLzOPgu",
        "Y7Fe8yNLaD-I",
        "aebwy9olaU-q",
        "fwOmrDH_U8j1",
        "RuzPqlkObr_y",
        "2s6ieqksH6Kj",
        "uY9_GaZD0rl0",
        "kug7aMbo07gq",
        "9FBPYZlJ4vzP",
        "PA70FNY85lLS",
        "GkZTi34I50RP",
        "WiJfOK7J6Tl8",
        "Av6qBhp9FhwW",
        "NlFnNQteiqMt",
        "5ABNKgQx6nLm",
        "VIF_Cw3dG74D",
        "nL78au1A7PVR",
        "o09aqFu_8V3i",
        "J18emGV39dZ9",
        "gfYI6pknAAMY",
        "ZhKLWHI_8u2D",
        "LH-87cF3IBld",
        "e6tRhZaIrq0x",
        "RA22TkgQKC0z",
        "xcTInKZSOOrc",
        "dC8rAg3WRgV3",
        "NIKO9xbSTXCq",
        "YrlobIpwYMCR",
        "HpLUMK3MYatk",
        "Ur4E8kuqe5r_",
        "2x6z34F3Y7pq",
        "dLbnoxphOBH9",
        "MU8u6bXYaMzk",
        "Fry_d_6rIuHk"
      ],
      "provenance": []
    },
    "kernelspec": {
      "display_name": "Python 3 (ipykernel)",
      "language": "python",
      "name": "python3"
    },
    "language_info": {
      "codemirror_mode": {
        "name": "ipython",
        "version": 3
      },
      "file_extension": ".py",
      "mimetype": "text/x-python",
      "name": "python",
      "nbconvert_exporter": "python",
      "pygments_lexer": "ipython3",
      "version": "3.11.4"
    }
  },
  "nbformat": 4,
  "nbformat_minor": 5
}
