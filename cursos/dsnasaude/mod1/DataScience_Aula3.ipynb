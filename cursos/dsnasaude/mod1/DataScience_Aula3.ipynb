{
  "cells": [
    {
      "cell_type": "markdown",
      "id": "914744a5",
      "metadata": {
        "id": "914744a5"
      },
      "source": [
        "# DS-001 - INTRODUÇÃO À ANÁLISE DE DADOS COM PYTHON\n",
        "### Prof. Felipe Lobo\n",
        "*Esta disciplina tem 08h de atividades presenciais em sala de aula e 08h on-line no Moodle.*\n",
        "\n",
        "---\n",
        "**Aula 2**\n",
        "**Pergunta orientadora:** Como selecionar e importar bases de dados promissoras para análise no ambiente do Jupyter Notebook?\n",
        "\n",
        "**Entregável:** Base de dados para o projeto do Módulo.\n",
        "\n",
        "**Experiência:** obter base de dados sobre Covid-19 no Kaggle e visualizá-la.\n",
        "\n",
        "---\n",
        "\n",
        "**Base de Dados que utilizaremos:**\n",
        "[Link-Dados-Covid-Brasil](https://github.com/CSSEGISandData/COVID-19/tree/master/who_covid_19_situation_reports)"
      ]
    },
    {
      "cell_type": "code",
      "execution_count": 1,
      "id": "8a5d5d4d",
      "metadata": {
        "colab": {
          "base_uri": "https://localhost:8080/",
          "height": 226
        },
        "id": "8a5d5d4d",
        "outputId": "eb6afda9-4b7e-4a1e-a12c-e93aad55c4db"
      },
      "outputs": [
        {
          "data": {
            "text/html": [
              "<div>\n",
              "<style scoped>\n",
              "    .dataframe tbody tr th:only-of-type {\n",
              "        vertical-align: middle;\n",
              "    }\n",
              "\n",
              "    .dataframe tbody tr th {\n",
              "        vertical-align: top;\n",
              "    }\n",
              "\n",
              "    .dataframe thead th {\n",
              "        text-align: right;\n",
              "    }\n",
              "</style>\n",
              "<table border=\"1\" class=\"dataframe\">\n",
              "  <thead>\n",
              "    <tr style=\"text-align: right;\">\n",
              "      <th></th>\n",
              "      <th>Date_reported</th>\n",
              "      <th>Country_code</th>\n",
              "      <th>Country</th>\n",
              "      <th>WHO_region</th>\n",
              "      <th>New_cases</th>\n",
              "      <th>Cumulative_cases</th>\n",
              "      <th>New_deaths</th>\n",
              "      <th>Cumulative_deaths</th>\n",
              "    </tr>\n",
              "  </thead>\n",
              "  <tbody>\n",
              "    <tr>\n",
              "      <th>0</th>\n",
              "      <td>2020-01-05</td>\n",
              "      <td>AF</td>\n",
              "      <td>Afghanistan</td>\n",
              "      <td>EMRO</td>\n",
              "      <td>NaN</td>\n",
              "      <td>0</td>\n",
              "      <td>NaN</td>\n",
              "      <td>0</td>\n",
              "    </tr>\n",
              "    <tr>\n",
              "      <th>1</th>\n",
              "      <td>2020-01-12</td>\n",
              "      <td>AF</td>\n",
              "      <td>Afghanistan</td>\n",
              "      <td>EMRO</td>\n",
              "      <td>NaN</td>\n",
              "      <td>0</td>\n",
              "      <td>NaN</td>\n",
              "      <td>0</td>\n",
              "    </tr>\n",
              "    <tr>\n",
              "      <th>2</th>\n",
              "      <td>2020-01-19</td>\n",
              "      <td>AF</td>\n",
              "      <td>Afghanistan</td>\n",
              "      <td>EMRO</td>\n",
              "      <td>NaN</td>\n",
              "      <td>0</td>\n",
              "      <td>NaN</td>\n",
              "      <td>0</td>\n",
              "    </tr>\n",
              "    <tr>\n",
              "      <th>3</th>\n",
              "      <td>2020-01-26</td>\n",
              "      <td>AF</td>\n",
              "      <td>Afghanistan</td>\n",
              "      <td>EMRO</td>\n",
              "      <td>NaN</td>\n",
              "      <td>0</td>\n",
              "      <td>NaN</td>\n",
              "      <td>0</td>\n",
              "    </tr>\n",
              "    <tr>\n",
              "      <th>4</th>\n",
              "      <td>2020-02-02</td>\n",
              "      <td>AF</td>\n",
              "      <td>Afghanistan</td>\n",
              "      <td>EMRO</td>\n",
              "      <td>NaN</td>\n",
              "      <td>0</td>\n",
              "      <td>NaN</td>\n",
              "      <td>0</td>\n",
              "    </tr>\n",
              "  </tbody>\n",
              "</table>\n",
              "</div>"
            ],
            "text/plain": [
              "  Date_reported Country_code      Country WHO_region  New_cases  \\\n",
              "0    2020-01-05           AF  Afghanistan       EMRO        NaN   \n",
              "1    2020-01-12           AF  Afghanistan       EMRO        NaN   \n",
              "2    2020-01-19           AF  Afghanistan       EMRO        NaN   \n",
              "3    2020-01-26           AF  Afghanistan       EMRO        NaN   \n",
              "4    2020-02-02           AF  Afghanistan       EMRO        NaN   \n",
              "\n",
              "   Cumulative_cases  New_deaths  Cumulative_deaths  \n",
              "0                 0         NaN                  0  \n",
              "1                 0         NaN                  0  \n",
              "2                 0         NaN                  0  \n",
              "3                 0         NaN                  0  \n",
              "4                 0         NaN                  0  "
            ]
          },
          "execution_count": 1,
          "metadata": {},
          "output_type": "execute_result"
        }
      ],
      "source": [
        "# 1) Fazer o upload da base de dados no google Colaboratory\n",
        "\n",
        "# 2) Importe a biblioteca PANDAS. Ela possui códigos prontos, para que possamos abrir com o Python a base de dados.\n",
        "import pandas as pd # O 'pd' é um apelido curto, para que possamos usar os recursos desta biblioteca em nosso código.\n",
        "\n",
        "# 3) Obtenha a base de dados.\n",
        "### O caminho abaixo corresponde à localização do arquivo. O seu caminho pode ser diferente.\n",
        "dados = pd.read_csv('WHO-COVID-19-global-data.csv')\n",
        "\n",
        "\n",
        "# 4) Verifique o conteúdo da base de dados, para estar seguro de que os dados foram obtidos adequadamente.\n",
        "### Podemos ter uma noção do conteúdo do banco, pedindo para o Python nos mostrar os seus 5 primeiros registros.\n",
        "dados.head()"
      ]
    },
    {
      "cell_type": "code",
      "execution_count": 2,
      "id": "d545678c",
      "metadata": {
        "colab": {
          "base_uri": "https://localhost:8080/",
          "height": 226
        },
        "id": "d545678c",
        "outputId": "353a8a89-7bb5-4fbf-a837-e8943d1d5c02"
      },
      "outputs": [
        {
          "data": {
            "text/html": [
              "<div>\n",
              "<style scoped>\n",
              "    .dataframe tbody tr th:only-of-type {\n",
              "        vertical-align: middle;\n",
              "    }\n",
              "\n",
              "    .dataframe tbody tr th {\n",
              "        vertical-align: top;\n",
              "    }\n",
              "\n",
              "    .dataframe thead th {\n",
              "        text-align: right;\n",
              "    }\n",
              "</style>\n",
              "<table border=\"1\" class=\"dataframe\">\n",
              "  <thead>\n",
              "    <tr style=\"text-align: right;\">\n",
              "      <th></th>\n",
              "      <th>Date_reported</th>\n",
              "      <th>Country_code</th>\n",
              "      <th>Country</th>\n",
              "      <th>WHO_region</th>\n",
              "      <th>New_cases</th>\n",
              "      <th>Cumulative_cases</th>\n",
              "      <th>New_deaths</th>\n",
              "      <th>Cumulative_deaths</th>\n",
              "    </tr>\n",
              "  </thead>\n",
              "  <tbody>\n",
              "    <tr>\n",
              "      <th>54955</th>\n",
              "      <td>2024-04-21</td>\n",
              "      <td>ZW</td>\n",
              "      <td>Zimbabwe</td>\n",
              "      <td>AFRO</td>\n",
              "      <td>NaN</td>\n",
              "      <td>266359</td>\n",
              "      <td>NaN</td>\n",
              "      <td>5740</td>\n",
              "    </tr>\n",
              "    <tr>\n",
              "      <th>54956</th>\n",
              "      <td>2024-04-28</td>\n",
              "      <td>ZW</td>\n",
              "      <td>Zimbabwe</td>\n",
              "      <td>AFRO</td>\n",
              "      <td>3.0</td>\n",
              "      <td>266362</td>\n",
              "      <td>NaN</td>\n",
              "      <td>5740</td>\n",
              "    </tr>\n",
              "    <tr>\n",
              "      <th>54957</th>\n",
              "      <td>2024-05-05</td>\n",
              "      <td>ZW</td>\n",
              "      <td>Zimbabwe</td>\n",
              "      <td>AFRO</td>\n",
              "      <td>NaN</td>\n",
              "      <td>266362</td>\n",
              "      <td>NaN</td>\n",
              "      <td>5740</td>\n",
              "    </tr>\n",
              "    <tr>\n",
              "      <th>54958</th>\n",
              "      <td>2024-05-12</td>\n",
              "      <td>ZW</td>\n",
              "      <td>Zimbabwe</td>\n",
              "      <td>AFRO</td>\n",
              "      <td>NaN</td>\n",
              "      <td>266362</td>\n",
              "      <td>NaN</td>\n",
              "      <td>5740</td>\n",
              "    </tr>\n",
              "    <tr>\n",
              "      <th>54959</th>\n",
              "      <td>2024-05-19</td>\n",
              "      <td>ZW</td>\n",
              "      <td>Zimbabwe</td>\n",
              "      <td>AFRO</td>\n",
              "      <td>NaN</td>\n",
              "      <td>266362</td>\n",
              "      <td>NaN</td>\n",
              "      <td>5740</td>\n",
              "    </tr>\n",
              "  </tbody>\n",
              "</table>\n",
              "</div>"
            ],
            "text/plain": [
              "      Date_reported Country_code   Country WHO_region  New_cases  \\\n",
              "54955    2024-04-21           ZW  Zimbabwe       AFRO        NaN   \n",
              "54956    2024-04-28           ZW  Zimbabwe       AFRO        3.0   \n",
              "54957    2024-05-05           ZW  Zimbabwe       AFRO        NaN   \n",
              "54958    2024-05-12           ZW  Zimbabwe       AFRO        NaN   \n",
              "54959    2024-05-19           ZW  Zimbabwe       AFRO        NaN   \n",
              "\n",
              "       Cumulative_cases  New_deaths  Cumulative_deaths  \n",
              "54955            266359         NaN               5740  \n",
              "54956            266362         NaN               5740  \n",
              "54957            266362         NaN               5740  \n",
              "54958            266362         NaN               5740  \n",
              "54959            266362         NaN               5740  "
            ]
          },
          "execution_count": 2,
          "metadata": {},
          "output_type": "execute_result"
        }
      ],
      "source": [
        "# 5) Podemos ter uma ideia dos últimos 5 itens do nosso banco, pedindo isso ao Python com o seguinte comando.\n",
        "dados.tail()"
      ]
    },
    {
      "cell_type": "markdown",
      "id": "ebd3523e",
      "metadata": {
        "id": "ebd3523e"
      },
      "source": [
        "### Informações importantes sobre a base de dados:\n",
        "**O que signica cada coluna:**\n",
        "\n",
        "    - Date_reported: data que foi relatado\n",
        "\t- Conutry_code: código do país\n",
        "\t- Conutry: país\n",
        "\t- WHO_region: continente\n",
        "\t- New_cases: novos casos\n",
        "\t- Cumulative_cases: novos casos cumulativos\n",
        "\t- New_deaths: novos números de mortos\n",
        "\t- Cumulative_deaths: números de mortos cumulativos\n",
        "\n",
        "**Como o Pandas guarda os nossos dados:**\n",
        "\n",
        "\t- O pandas armazena o nosso banco como um DataFrame, que é uma estrutura bi-dimensional, que pode contar diversos tipos de dados, sendo os elementos rotulados.\n",
        "    - Os rótulos das linhas estão no atributo *index*, que são os números de 0 em diante que podem ser vistos acima, na extrema esquerda da tabela. Já os rótulos de colunas ficam no atributo *columns*."
      ]
    },
    {
      "cell_type": "markdown",
      "id": "Z5EjU_iaRaCC",
      "metadata": {
        "id": "Z5EjU_iaRaCC"
      },
      "source": [
        "## **Exercício 1**\n",
        "\n",
        "### O que são dados categóricos e dados numéricos?\n",
        "\n",
        "##### Para responder, crie uma caixa de texto abaixo e insira sua resposta nela."
      ]
    },
    {
      "cell_type": "markdown",
      "id": "SJcdsuK3wacZ",
      "metadata": {
        "id": "SJcdsuK3wacZ"
      },
      "source": [
        "### Podemos descrever estatisticamente cada dado numérico."
      ]
    },
    {
      "cell_type": "code",
      "execution_count": 3,
      "id": "7d4ab7d3",
      "metadata": {
        "colab": {
          "base_uri": "https://localhost:8080/",
          "height": 300
        },
        "id": "7d4ab7d3",
        "outputId": "fc7a0a15-220c-4ba3-cb04-86e6eebcb9ad"
      },
      "outputs": [
        {
          "data": {
            "text/html": [
              "<div>\n",
              "<style scoped>\n",
              "    .dataframe tbody tr th:only-of-type {\n",
              "        vertical-align: middle;\n",
              "    }\n",
              "\n",
              "    .dataframe tbody tr th {\n",
              "        vertical-align: top;\n",
              "    }\n",
              "\n",
              "    .dataframe thead th {\n",
              "        text-align: right;\n",
              "    }\n",
              "</style>\n",
              "<table border=\"1\" class=\"dataframe\">\n",
              "  <thead>\n",
              "    <tr style=\"text-align: right;\">\n",
              "      <th></th>\n",
              "      <th>New_cases</th>\n",
              "      <th>Cumulative_cases</th>\n",
              "      <th>New_deaths</th>\n",
              "      <th>Cumulative_deaths</th>\n",
              "    </tr>\n",
              "  </thead>\n",
              "  <tbody>\n",
              "    <tr>\n",
              "      <th>count</th>\n",
              "      <td>3.808200e+04</td>\n",
              "      <td>5.496000e+04</td>\n",
              "      <td>24747.000000</td>\n",
              "      <td>5.496000e+04</td>\n",
              "    </tr>\n",
              "    <tr>\n",
              "      <th>mean</th>\n",
              "      <td>2.036454e+04</td>\n",
              "      <td>1.717275e+06</td>\n",
              "      <td>284.867539</td>\n",
              "      <td>1.951925e+04</td>\n",
              "    </tr>\n",
              "    <tr>\n",
              "      <th>std</th>\n",
              "      <td>2.741073e+05</td>\n",
              "      <td>7.564886e+06</td>\n",
              "      <td>1220.284388</td>\n",
              "      <td>8.039614e+04</td>\n",
              "    </tr>\n",
              "    <tr>\n",
              "      <th>min</th>\n",
              "      <td>-6.507900e+04</td>\n",
              "      <td>0.000000e+00</td>\n",
              "      <td>-3432.000000</td>\n",
              "      <td>0.000000e+00</td>\n",
              "    </tr>\n",
              "    <tr>\n",
              "      <th>25%</th>\n",
              "      <td>4.600000e+01</td>\n",
              "      <td>3.550000e+03</td>\n",
              "      <td>4.000000</td>\n",
              "      <td>2.500000e+01</td>\n",
              "    </tr>\n",
              "    <tr>\n",
              "      <th>50%</th>\n",
              "      <td>4.220000e+02</td>\n",
              "      <td>4.307800e+04</td>\n",
              "      <td>21.000000</td>\n",
              "      <td>4.710000e+02</td>\n",
              "    </tr>\n",
              "    <tr>\n",
              "      <th>75%</th>\n",
              "      <td>4.191250e+03</td>\n",
              "      <td>5.071905e+05</td>\n",
              "      <td>106.000000</td>\n",
              "      <td>6.638500e+03</td>\n",
              "    </tr>\n",
              "    <tr>\n",
              "      <th>max</th>\n",
              "      <td>4.047548e+07</td>\n",
              "      <td>1.034368e+08</td>\n",
              "      <td>47687.000000</td>\n",
              "      <td>1.187771e+06</td>\n",
              "    </tr>\n",
              "  </tbody>\n",
              "</table>\n",
              "</div>"
            ],
            "text/plain": [
              "          New_cases  Cumulative_cases    New_deaths  Cumulative_deaths\n",
              "count  3.808200e+04      5.496000e+04  24747.000000       5.496000e+04\n",
              "mean   2.036454e+04      1.717275e+06    284.867539       1.951925e+04\n",
              "std    2.741073e+05      7.564886e+06   1220.284388       8.039614e+04\n",
              "min   -6.507900e+04      0.000000e+00  -3432.000000       0.000000e+00\n",
              "25%    4.600000e+01      3.550000e+03      4.000000       2.500000e+01\n",
              "50%    4.220000e+02      4.307800e+04     21.000000       4.710000e+02\n",
              "75%    4.191250e+03      5.071905e+05    106.000000       6.638500e+03\n",
              "max    4.047548e+07      1.034368e+08  47687.000000       1.187771e+06"
            ]
          },
          "execution_count": 3,
          "metadata": {},
          "output_type": "execute_result"
        }
      ],
      "source": [
        "# 6) Calcule estatísticas sobre todos os dados numéricos (excluindo, portanto, os categóricos):\n",
        "dados.describe()"
      ]
    },
    {
      "cell_type": "code",
      "execution_count": 4,
      "id": "6ea23859",
      "metadata": {
        "colab": {
          "base_uri": "https://localhost:8080/",
          "height": 206
        },
        "id": "6ea23859",
        "outputId": "2317bd87-a7fb-4c78-f81d-d10f6c371fc0"
      },
      "outputs": [
        {
          "data": {
            "text/html": [
              "<div>\n",
              "<style scoped>\n",
              "    .dataframe tbody tr th:only-of-type {\n",
              "        vertical-align: middle;\n",
              "    }\n",
              "\n",
              "    .dataframe tbody tr th {\n",
              "        vertical-align: top;\n",
              "    }\n",
              "\n",
              "    .dataframe thead th {\n",
              "        text-align: right;\n",
              "    }\n",
              "</style>\n",
              "<table border=\"1\" class=\"dataframe\">\n",
              "  <thead>\n",
              "    <tr style=\"text-align: right;\">\n",
              "      <th></th>\n",
              "      <th>Date_reported</th>\n",
              "      <th>Country_code</th>\n",
              "      <th>Country</th>\n",
              "      <th>New_cases</th>\n",
              "      <th>Cumulative_cases</th>\n",
              "      <th>New_deaths</th>\n",
              "      <th>Cumulative_deaths</th>\n",
              "    </tr>\n",
              "  </thead>\n",
              "  <tbody>\n",
              "    <tr>\n",
              "      <th>0</th>\n",
              "      <td>2020-01-05</td>\n",
              "      <td>AF</td>\n",
              "      <td>Afghanistan</td>\n",
              "      <td>NaN</td>\n",
              "      <td>0</td>\n",
              "      <td>NaN</td>\n",
              "      <td>0</td>\n",
              "    </tr>\n",
              "    <tr>\n",
              "      <th>1</th>\n",
              "      <td>2020-01-12</td>\n",
              "      <td>AF</td>\n",
              "      <td>Afghanistan</td>\n",
              "      <td>NaN</td>\n",
              "      <td>0</td>\n",
              "      <td>NaN</td>\n",
              "      <td>0</td>\n",
              "    </tr>\n",
              "    <tr>\n",
              "      <th>2</th>\n",
              "      <td>2020-01-19</td>\n",
              "      <td>AF</td>\n",
              "      <td>Afghanistan</td>\n",
              "      <td>NaN</td>\n",
              "      <td>0</td>\n",
              "      <td>NaN</td>\n",
              "      <td>0</td>\n",
              "    </tr>\n",
              "    <tr>\n",
              "      <th>3</th>\n",
              "      <td>2020-01-26</td>\n",
              "      <td>AF</td>\n",
              "      <td>Afghanistan</td>\n",
              "      <td>NaN</td>\n",
              "      <td>0</td>\n",
              "      <td>NaN</td>\n",
              "      <td>0</td>\n",
              "    </tr>\n",
              "    <tr>\n",
              "      <th>4</th>\n",
              "      <td>2020-02-02</td>\n",
              "      <td>AF</td>\n",
              "      <td>Afghanistan</td>\n",
              "      <td>NaN</td>\n",
              "      <td>0</td>\n",
              "      <td>NaN</td>\n",
              "      <td>0</td>\n",
              "    </tr>\n",
              "  </tbody>\n",
              "</table>\n",
              "</div>"
            ],
            "text/plain": [
              "  Date_reported Country_code      Country  New_cases  Cumulative_cases  \\\n",
              "0    2020-01-05           AF  Afghanistan        NaN                 0   \n",
              "1    2020-01-12           AF  Afghanistan        NaN                 0   \n",
              "2    2020-01-19           AF  Afghanistan        NaN                 0   \n",
              "3    2020-01-26           AF  Afghanistan        NaN                 0   \n",
              "4    2020-02-02           AF  Afghanistan        NaN                 0   \n",
              "\n",
              "   New_deaths  Cumulative_deaths  \n",
              "0         NaN                  0  \n",
              "1         NaN                  0  \n",
              "2         NaN                  0  \n",
              "3         NaN                  0  \n",
              "4         NaN                  0  "
            ]
          },
          "execution_count": 4,
          "metadata": {},
          "output_type": "execute_result"
        }
      ],
      "source": [
        "# 7) Crie uma cópia só com as variáveis de interesse:\n",
        "dados_analise = pd.DataFrame(dados, columns = ['Date_reported', 'Country_code', 'Country', 'New_cases', 'Cumulative_cases', 'New_deaths', 'Cumulative_deaths'])\n",
        "\n",
        "# 8) Consulte o banco copiado, para verificar se está correto:\n",
        "dados_analise.head()"
      ]
    },
    {
      "cell_type": "code",
      "execution_count": 5,
      "id": "bpB7p20cFzT0",
      "metadata": {
        "colab": {
          "base_uri": "https://localhost:8080/"
        },
        "id": "bpB7p20cFzT0",
        "outputId": "d544a430-0e84-4671-9738-68f93f605bc3"
      },
      "outputs": [
        {
          "data": {
            "text/plain": [
              "(54960, 7)"
            ]
          },
          "execution_count": 5,
          "metadata": {},
          "output_type": "execute_result"
        }
      ],
      "source": [
        "# 9) Qual o formato da base de dados?\n",
        "dados_analise.shape"
      ]
    },
    {
      "cell_type": "markdown",
      "id": "Yyj7uCNjxMns",
      "metadata": {
        "id": "Yyj7uCNjxMns"
      },
      "source": [
        "### Podemos manipular a base dados, inserindo e removendo colunas, por exemplo."
      ]
    },
    {
      "cell_type": "code",
      "execution_count": 6,
      "id": "54463baf",
      "metadata": {
        "id": "54463baf"
      },
      "outputs": [],
      "source": [
        "# 10) Remova a coluna código do país, pois não precisaremos dessa informação:\n",
        "dados_analise = dados_analise.drop('Country_code', axis=1)\n"
      ]
    },
    {
      "cell_type": "markdown",
      "id": "ygr2aJ4Fx5Sv",
      "metadata": {
        "id": "ygr2aJ4Fx5Sv"
      },
      "source": [
        "## Exercício 2\n",
        "\n",
        "#### - Mostre as cinco primeiras linhas do novo DataFrame (dados_analise);\n",
        "\n",
        "#### - Exiba o novo formato da base de dados;\n",
        "\n",
        "#### - Exiba as cinco últimas linhas do novo DataFrame (dados_analise);\n",
        "\n",
        "##### * dica de Resposta: utilize três células de códigos, uma para cada item."
      ]
    },
    {
      "cell_type": "code",
      "execution_count": 7,
      "id": "86eebb18",
      "metadata": {},
      "outputs": [
        {
          "data": {
            "text/html": [
              "<div>\n",
              "<style scoped>\n",
              "    .dataframe tbody tr th:only-of-type {\n",
              "        vertical-align: middle;\n",
              "    }\n",
              "\n",
              "    .dataframe tbody tr th {\n",
              "        vertical-align: top;\n",
              "    }\n",
              "\n",
              "    .dataframe thead th {\n",
              "        text-align: right;\n",
              "    }\n",
              "</style>\n",
              "<table border=\"1\" class=\"dataframe\">\n",
              "  <thead>\n",
              "    <tr style=\"text-align: right;\">\n",
              "      <th></th>\n",
              "      <th>Date_reported</th>\n",
              "      <th>Country</th>\n",
              "      <th>New_cases</th>\n",
              "      <th>Cumulative_cases</th>\n",
              "      <th>New_deaths</th>\n",
              "      <th>Cumulative_deaths</th>\n",
              "    </tr>\n",
              "  </thead>\n",
              "  <tbody>\n",
              "    <tr>\n",
              "      <th>0</th>\n",
              "      <td>2020-01-05</td>\n",
              "      <td>Afghanistan</td>\n",
              "      <td>NaN</td>\n",
              "      <td>0</td>\n",
              "      <td>NaN</td>\n",
              "      <td>0</td>\n",
              "    </tr>\n",
              "    <tr>\n",
              "      <th>1</th>\n",
              "      <td>2020-01-12</td>\n",
              "      <td>Afghanistan</td>\n",
              "      <td>NaN</td>\n",
              "      <td>0</td>\n",
              "      <td>NaN</td>\n",
              "      <td>0</td>\n",
              "    </tr>\n",
              "    <tr>\n",
              "      <th>2</th>\n",
              "      <td>2020-01-19</td>\n",
              "      <td>Afghanistan</td>\n",
              "      <td>NaN</td>\n",
              "      <td>0</td>\n",
              "      <td>NaN</td>\n",
              "      <td>0</td>\n",
              "    </tr>\n",
              "    <tr>\n",
              "      <th>3</th>\n",
              "      <td>2020-01-26</td>\n",
              "      <td>Afghanistan</td>\n",
              "      <td>NaN</td>\n",
              "      <td>0</td>\n",
              "      <td>NaN</td>\n",
              "      <td>0</td>\n",
              "    </tr>\n",
              "    <tr>\n",
              "      <th>4</th>\n",
              "      <td>2020-02-02</td>\n",
              "      <td>Afghanistan</td>\n",
              "      <td>NaN</td>\n",
              "      <td>0</td>\n",
              "      <td>NaN</td>\n",
              "      <td>0</td>\n",
              "    </tr>\n",
              "  </tbody>\n",
              "</table>\n",
              "</div>"
            ],
            "text/plain": [
              "  Date_reported      Country  New_cases  Cumulative_cases  New_deaths  \\\n",
              "0    2020-01-05  Afghanistan        NaN                 0         NaN   \n",
              "1    2020-01-12  Afghanistan        NaN                 0         NaN   \n",
              "2    2020-01-19  Afghanistan        NaN                 0         NaN   \n",
              "3    2020-01-26  Afghanistan        NaN                 0         NaN   \n",
              "4    2020-02-02  Afghanistan        NaN                 0         NaN   \n",
              "\n",
              "   Cumulative_deaths  \n",
              "0                  0  \n",
              "1                  0  \n",
              "2                  0  \n",
              "3                  0  \n",
              "4                  0  "
            ]
          },
          "execution_count": 7,
          "metadata": {},
          "output_type": "execute_result"
        }
      ],
      "source": [
        "dados_analise.head()"
      ]
    },
    {
      "cell_type": "code",
      "execution_count": 8,
      "id": "9bd4f833",
      "metadata": {},
      "outputs": [
        {
          "data": {
            "text/plain": [
              "pandas.core.frame.DataFrame"
            ]
          },
          "execution_count": 8,
          "metadata": {},
          "output_type": "execute_result"
        }
      ],
      "source": [
        "type(dados_analise)"
      ]
    },
    {
      "cell_type": "code",
      "execution_count": 9,
      "id": "9ebf1b58",
      "metadata": {},
      "outputs": [
        {
          "data": {
            "text/html": [
              "<div>\n",
              "<style scoped>\n",
              "    .dataframe tbody tr th:only-of-type {\n",
              "        vertical-align: middle;\n",
              "    }\n",
              "\n",
              "    .dataframe tbody tr th {\n",
              "        vertical-align: top;\n",
              "    }\n",
              "\n",
              "    .dataframe thead th {\n",
              "        text-align: right;\n",
              "    }\n",
              "</style>\n",
              "<table border=\"1\" class=\"dataframe\">\n",
              "  <thead>\n",
              "    <tr style=\"text-align: right;\">\n",
              "      <th></th>\n",
              "      <th>Date_reported</th>\n",
              "      <th>Country</th>\n",
              "      <th>New_cases</th>\n",
              "      <th>Cumulative_cases</th>\n",
              "      <th>New_deaths</th>\n",
              "      <th>Cumulative_deaths</th>\n",
              "    </tr>\n",
              "  </thead>\n",
              "  <tbody>\n",
              "    <tr>\n",
              "      <th>54955</th>\n",
              "      <td>2024-04-21</td>\n",
              "      <td>Zimbabwe</td>\n",
              "      <td>NaN</td>\n",
              "      <td>266359</td>\n",
              "      <td>NaN</td>\n",
              "      <td>5740</td>\n",
              "    </tr>\n",
              "    <tr>\n",
              "      <th>54956</th>\n",
              "      <td>2024-04-28</td>\n",
              "      <td>Zimbabwe</td>\n",
              "      <td>3.0</td>\n",
              "      <td>266362</td>\n",
              "      <td>NaN</td>\n",
              "      <td>5740</td>\n",
              "    </tr>\n",
              "    <tr>\n",
              "      <th>54957</th>\n",
              "      <td>2024-05-05</td>\n",
              "      <td>Zimbabwe</td>\n",
              "      <td>NaN</td>\n",
              "      <td>266362</td>\n",
              "      <td>NaN</td>\n",
              "      <td>5740</td>\n",
              "    </tr>\n",
              "    <tr>\n",
              "      <th>54958</th>\n",
              "      <td>2024-05-12</td>\n",
              "      <td>Zimbabwe</td>\n",
              "      <td>NaN</td>\n",
              "      <td>266362</td>\n",
              "      <td>NaN</td>\n",
              "      <td>5740</td>\n",
              "    </tr>\n",
              "    <tr>\n",
              "      <th>54959</th>\n",
              "      <td>2024-05-19</td>\n",
              "      <td>Zimbabwe</td>\n",
              "      <td>NaN</td>\n",
              "      <td>266362</td>\n",
              "      <td>NaN</td>\n",
              "      <td>5740</td>\n",
              "    </tr>\n",
              "  </tbody>\n",
              "</table>\n",
              "</div>"
            ],
            "text/plain": [
              "      Date_reported   Country  New_cases  Cumulative_cases  New_deaths  \\\n",
              "54955    2024-04-21  Zimbabwe        NaN            266359         NaN   \n",
              "54956    2024-04-28  Zimbabwe        3.0            266362         NaN   \n",
              "54957    2024-05-05  Zimbabwe        NaN            266362         NaN   \n",
              "54958    2024-05-12  Zimbabwe        NaN            266362         NaN   \n",
              "54959    2024-05-19  Zimbabwe        NaN            266362         NaN   \n",
              "\n",
              "       Cumulative_deaths  \n",
              "54955               5740  \n",
              "54956               5740  \n",
              "54957               5740  \n",
              "54958               5740  \n",
              "54959               5740  "
            ]
          },
          "execution_count": 9,
          "metadata": {},
          "output_type": "execute_result"
        }
      ],
      "source": [
        "dados_analise.tail()"
      ]
    },
    {
      "cell_type": "markdown",
      "id": "sLwcovqPHELu",
      "metadata": {
        "id": "sLwcovqPHELu"
      },
      "source": [
        "### Criando uma série de valores a partir de um Dataframe"
      ]
    },
    {
      "cell_type": "code",
      "execution_count": 10,
      "id": "9NpixCdEHKoy",
      "metadata": {
        "colab": {
          "base_uri": "https://localhost:8080/"
        },
        "id": "9NpixCdEHKoy",
        "outputId": "52d61b29-db89-40e2-9dc2-1f8ac76b3e67"
      },
      "outputs": [
        {
          "data": {
            "text/plain": [
              "0        Afghanistan\n",
              "1        Afghanistan\n",
              "2        Afghanistan\n",
              "3        Afghanistan\n",
              "4        Afghanistan\n",
              "            ...     \n",
              "54955       Zimbabwe\n",
              "54956       Zimbabwe\n",
              "54957       Zimbabwe\n",
              "54958       Zimbabwe\n",
              "54959       Zimbabwe\n",
              "Name: Country, Length: 54960, dtype: object"
            ]
          },
          "execution_count": 10,
          "metadata": {},
          "output_type": "execute_result"
        }
      ],
      "source": [
        "# 11) Escolher uma coluna específica\n",
        "dados_analise[\"Country\"]"
      ]
    },
    {
      "cell_type": "code",
      "execution_count": 11,
      "id": "Nw5qzBVZHtTO",
      "metadata": {
        "colab": {
          "base_uri": "https://localhost:8080/"
        },
        "id": "Nw5qzBVZHtTO",
        "outputId": "5fea550f-bd0a-462b-958f-ab91f529d2a0"
      },
      "outputs": [
        {
          "data": {
            "text/plain": [
              "array(['Afghanistan', 'Albania', 'Algeria', 'American Samoa', 'Andorra',\n",
              "       'Angola', 'Anguilla', 'Antigua and Barbuda', 'Argentina',\n",
              "       'Armenia', 'Aruba', 'Australia', 'Austria', 'Azerbaijan',\n",
              "       'Bahamas', 'Bahrain', 'Bangladesh', 'Barbados', 'Belarus',\n",
              "       'Belgium', 'Belize', 'Benin', 'Bermuda', 'Bhutan',\n",
              "       'Bolivia (Plurinational State of)',\n",
              "       'Bonaire, Saint Eustatius and Saba', 'Bosnia and Herzegovina',\n",
              "       'Botswana', 'Brazil', 'British Virgin Islands',\n",
              "       'Brunei Darussalam', 'Bulgaria', 'Burkina Faso', 'Burundi',\n",
              "       'Cabo Verde', 'Cambodia', 'Cameroon', 'Canada', 'Cayman Islands',\n",
              "       'Central African Republic', 'Chad', 'Charo', 'Chefoo', 'Chile',\n",
              "       'China', 'Colombia', 'Comoros', 'Congo', 'Cook Islands',\n",
              "       'Costa Rica', \"Côte d'Ivoire\", 'Croatia', 'Cuba', 'Curaçao',\n",
              "       'Cyprus', 'Czechia', \"Democratic People's Republic of Korea\",\n",
              "       'Democratic Republic of the Congo', 'Denmark', 'Diamond',\n",
              "       'Djibouti', 'Dominica', 'Dominican Republic', 'Ecuador', 'Egypt',\n",
              "       'El Salvador', 'Equatorial Guinea', 'Eritrea', 'Estonia',\n",
              "       'Eswatini', 'Ethiopia', 'Falkland Islands (Malvinas)',\n",
              "       'Faroe Islands', 'Fesco', 'Fiji', 'Finland', 'France',\n",
              "       'French Guiana', 'French Polynesia', 'Gabon', 'Gambia', 'Georgia',\n",
              "       'Germany', 'Ghana', 'Gibraltar', 'Greece', 'Greenland', 'Grenada',\n",
              "       'Guadeloupe', 'Guam', 'Guatemala', 'Guernsey', 'Guinea',\n",
              "       'Guinea-Bissau', 'Guyana', 'Haiti', 'Holy See', 'Honduras',\n",
              "       'Hungary', 'Iceland', 'Ickiribati', 'Icvanuatu', 'India',\n",
              "       'Indonesia', 'Iran (Islamic Republic of)', 'Iraq', 'Ireland',\n",
              "       'Isle of Man', 'Israel', 'Italy', 'Jamaica', 'Japan', 'Jersey',\n",
              "       'Jordan', 'Kazakhstan', 'Kenya', 'Kiribati',\n",
              "       'Kosovo (in accordance with UN Security Council resolution 1244 (1999))',\n",
              "       'Kuwait', 'Kyrgyzstan', \"Lao People's Democratic Republic\",\n",
              "       'Latvia', 'Lebanon', 'Lesotho', 'Liberia', 'Libya',\n",
              "       'Liechtenstein', 'Lithuania', 'Luxembourg', 'Madagascar', 'Malawi',\n",
              "       'Malaysia', 'Maldives', 'Mali', 'Malta', 'Marshall Islands',\n",
              "       'Martinique', 'Mauritania', 'Mauritius', 'Mayotte', 'Mexico',\n",
              "       'Micronesia (Federated States of)', 'Monaco', 'Mongolia',\n",
              "       'Montenegro', 'Montserrat', 'Morocco', 'Mozambique', 'Myanmar',\n",
              "       'Namibia', 'Nauru', 'Nepal', 'Netherlands (Kingdom of the)',\n",
              "       'New Caledonia', 'New Zealand', 'Nicaragua', 'Niger', 'Nigeria',\n",
              "       'Niue', 'North Macedonia', 'Northern Mariana Islands', 'Norway',\n",
              "       'occupied Palestinian territory, including east Jerusalem', 'Oman',\n",
              "       'Pakistan', 'Palau', 'Panama', 'Papua New Guinea', 'Paraguay',\n",
              "       'Peru', 'Philippines', 'Pitcairn', 'Poland', 'Portugal',\n",
              "       'Puerto Rico', 'Qatar', 'Republic of Korea', 'Republic of Moldova',\n",
              "       'Réunion', 'Romania', 'Russian Federation', 'Rwanda',\n",
              "       'Saint Barthélemy', 'Saint Helena', 'Saint Kitts and Nevis',\n",
              "       'Saint Lucia', 'Saint Martin (French part)',\n",
              "       'Saint Pierre and Miquelon', 'Saint Vincent and the Grenadines',\n",
              "       'Samoa', 'San Marino', 'Sao Tome and Principe', 'Saudi Arabia',\n",
              "       'Senegal', 'Serbia', 'Seychelles', 'Sierra Leone', 'Singapore',\n",
              "       'Sint Maarten (Dutch part)', 'Slovakia', 'Slovenia',\n",
              "       'Solomon Islands', 'Somalia', 'South Africa', 'South Sudan',\n",
              "       'Spain', 'Sri Lanka', 'Sudan', 'Suriname', 'Sweden', 'Switzerland',\n",
              "       'Syrian Arab Republic', 'Tajikistan', 'Thailand',\n",
              "       'United Kingdom of Great Britain and Northern Ireland',\n",
              "       'Timor-Leste', 'Togo', 'Tokelau', 'Tonga', 'Trinidad and Tobago',\n",
              "       'Tunisia', 'Türkiye', 'Turkmenistan', 'Turks and Caicos Islands',\n",
              "       'Tuvalu', 'Uganda', 'Ukraine', 'United Arab Emirates',\n",
              "       'United Republic of Tanzania', 'United States of America',\n",
              "       'United States Virgin Islands', 'Uruguay', 'Uzbekistan', 'Vanuatu',\n",
              "       'Venezuela (Bolivarian Republic of)', 'Viet Nam',\n",
              "       'Wallis and Futuna', 'Yemen', 'Zambia', 'Zimbabwe'], dtype=object)"
            ]
          },
          "execution_count": 11,
          "metadata": {},
          "output_type": "execute_result"
        }
      ],
      "source": [
        "# 12) Verificar a lista dos países uma única vez nessa base de dados\n",
        "dados_analise[\"Country\"].unique()"
      ]
    },
    {
      "cell_type": "code",
      "execution_count": 12,
      "id": "kQ0_zyJ4bok3",
      "metadata": {
        "colab": {
          "base_uri": "https://localhost:8080/"
        },
        "id": "kQ0_zyJ4bok3",
        "outputId": "c9eb8d47-3bb6-41b3-9b6b-4952a84ee02d"
      },
      "outputs": [
        {
          "data": {
            "text/plain": [
              "Country\n",
              "Afghanistan                     229\n",
              "Albania                         229\n",
              "Netherlands (Kingdom of the)    229\n",
              "New Caledonia                   229\n",
              "New Zealand                     229\n",
              "                               ... \n",
              "Gibraltar                       229\n",
              "Greece                          229\n",
              "Greenland                       229\n",
              "Grenada                         229\n",
              "Zimbabwe                        229\n",
              "Name: count, Length: 240, dtype: int64"
            ]
          },
          "execution_count": 12,
          "metadata": {},
          "output_type": "execute_result"
        }
      ],
      "source": [
        "# 13) Contar a frequenica que aparece cada país\n",
        "dados_analise[\"Country\"].value_counts()"
      ]
    },
    {
      "cell_type": "code",
      "execution_count": 13,
      "id": "YWcQMnoqqOun",
      "metadata": {
        "colab": {
          "base_uri": "https://localhost:8080/",
          "height": 711
        },
        "id": "YWcQMnoqqOun",
        "outputId": "02ddb623-5389-42f4-eb15-aaea0ca2429e"
      },
      "outputs": [
        {
          "data": {
            "text/html": [
              "<div>\n",
              "<style scoped>\n",
              "    .dataframe tbody tr th:only-of-type {\n",
              "        vertical-align: middle;\n",
              "    }\n",
              "\n",
              "    .dataframe tbody tr th {\n",
              "        vertical-align: top;\n",
              "    }\n",
              "\n",
              "    .dataframe thead th {\n",
              "        text-align: right;\n",
              "    }\n",
              "</style>\n",
              "<table border=\"1\" class=\"dataframe\">\n",
              "  <thead>\n",
              "    <tr style=\"text-align: right;\">\n",
              "      <th></th>\n",
              "      <th>Date_reported</th>\n",
              "      <th>Country</th>\n",
              "      <th>New_cases</th>\n",
              "      <th>Cumulative_cases</th>\n",
              "      <th>New_deaths</th>\n",
              "      <th>Cumulative_deaths</th>\n",
              "    </tr>\n",
              "  </thead>\n",
              "  <tbody>\n",
              "    <tr>\n",
              "      <th>33262</th>\n",
              "      <td>2021-02-07</td>\n",
              "      <td>Montserrat</td>\n",
              "      <td>2.0</td>\n",
              "      <td>15</td>\n",
              "      <td>NaN</td>\n",
              "      <td>1</td>\n",
              "    </tr>\n",
              "    <tr>\n",
              "      <th>13920</th>\n",
              "      <td>2023-06-18</td>\n",
              "      <td>Djibouti</td>\n",
              "      <td>NaN</td>\n",
              "      <td>15690</td>\n",
              "      <td>NaN</td>\n",
              "      <td>189</td>\n",
              "    </tr>\n",
              "    <tr>\n",
              "      <th>37138</th>\n",
              "      <td>2020-10-11</td>\n",
              "      <td>occupied Palestinian territory, including east...</td>\n",
              "      <td>3121.0</td>\n",
              "      <td>55134</td>\n",
              "      <td>52.0</td>\n",
              "      <td>442</td>\n",
              "    </tr>\n",
              "    <tr>\n",
              "      <th>51955</th>\n",
              "      <td>2023-11-12</td>\n",
              "      <td>Ukraine</td>\n",
              "      <td>613.0</td>\n",
              "      <td>5521657</td>\n",
              "      <td>NaN</td>\n",
              "      <td>109918</td>\n",
              "    </tr>\n",
              "    <tr>\n",
              "      <th>53238</th>\n",
              "      <td>2022-02-13</td>\n",
              "      <td>Uzbekistan</td>\n",
              "      <td>4133.0</td>\n",
              "      <td>152163</td>\n",
              "      <td>18.0</td>\n",
              "      <td>983</td>\n",
              "    </tr>\n",
              "    <tr>\n",
              "      <th>7891</th>\n",
              "      <td>2022-01-09</td>\n",
              "      <td>Cabo Verde</td>\n",
              "      <td>7387.0</td>\n",
              "      <td>49850</td>\n",
              "      <td>10.0</td>\n",
              "      <td>363</td>\n",
              "    </tr>\n",
              "    <tr>\n",
              "      <th>34224</th>\n",
              "      <td>2021-12-26</td>\n",
              "      <td>Namibia</td>\n",
              "      <td>6579.0</td>\n",
              "      <td>146097</td>\n",
              "      <td>28.0</td>\n",
              "      <td>3611</td>\n",
              "    </tr>\n",
              "    <tr>\n",
              "      <th>31214</th>\n",
              "      <td>2021-05-09</td>\n",
              "      <td>Martinique</td>\n",
              "      <td>351.0</td>\n",
              "      <td>11490</td>\n",
              "      <td>8.0</td>\n",
              "      <td>87</td>\n",
              "    </tr>\n",
              "    <tr>\n",
              "      <th>42017</th>\n",
              "      <td>2022-02-13</td>\n",
              "      <td>Saint Helena</td>\n",
              "      <td>NaN</td>\n",
              "      <td>0</td>\n",
              "      <td>NaN</td>\n",
              "      <td>0</td>\n",
              "    </tr>\n",
              "    <tr>\n",
              "      <th>53886</th>\n",
              "      <td>2021-05-16</td>\n",
              "      <td>Viet Nam</td>\n",
              "      <td>800.0</td>\n",
              "      <td>4212</td>\n",
              "      <td>2.0</td>\n",
              "      <td>37</td>\n",
              "    </tr>\n",
              "    <tr>\n",
              "      <th>38816</th>\n",
              "      <td>2022-03-20</td>\n",
              "      <td>Peru</td>\n",
              "      <td>5421.0</td>\n",
              "      <td>3540108</td>\n",
              "      <td>328.0</td>\n",
              "      <td>211751</td>\n",
              "    </tr>\n",
              "    <tr>\n",
              "      <th>33840</th>\n",
              "      <td>2023-05-28</td>\n",
              "      <td>Mozambique</td>\n",
              "      <td>NaN</td>\n",
              "      <td>233417</td>\n",
              "      <td>NaN</td>\n",
              "      <td>2243</td>\n",
              "    </tr>\n",
              "    <tr>\n",
              "      <th>25167</th>\n",
              "      <td>2023-12-17</td>\n",
              "      <td>Italy</td>\n",
              "      <td>66306.0</td>\n",
              "      <td>26568068</td>\n",
              "      <td>463.0</td>\n",
              "      <td>194741</td>\n",
              "    </tr>\n",
              "    <tr>\n",
              "      <th>27311</th>\n",
              "      <td>2021-02-28</td>\n",
              "      <td>Kyrgyzstan</td>\n",
              "      <td>NaN</td>\n",
              "      <td>0</td>\n",
              "      <td>NaN</td>\n",
              "      <td>0</td>\n",
              "    </tr>\n",
              "    <tr>\n",
              "      <th>43755</th>\n",
              "      <td>2020-04-26</td>\n",
              "      <td>Sao Tome and Principe</td>\n",
              "      <td>4.0</td>\n",
              "      <td>8</td>\n",
              "      <td>NaN</td>\n",
              "      <td>0</td>\n",
              "    </tr>\n",
              "    <tr>\n",
              "      <th>52165</th>\n",
              "      <td>2023-07-02</td>\n",
              "      <td>United Arab Emirates</td>\n",
              "      <td>NaN</td>\n",
              "      <td>1067030</td>\n",
              "      <td>NaN</td>\n",
              "      <td>2349</td>\n",
              "    </tr>\n",
              "    <tr>\n",
              "      <th>36979</th>\n",
              "      <td>2022-02-13</td>\n",
              "      <td>Norway</td>\n",
              "      <td>141784.0</td>\n",
              "      <td>1038520</td>\n",
              "      <td>54.0</td>\n",
              "      <td>1619</td>\n",
              "    </tr>\n",
              "    <tr>\n",
              "      <th>17699</th>\n",
              "      <td>2021-04-11</td>\n",
              "      <td>French Guiana</td>\n",
              "      <td>417.0</td>\n",
              "      <td>17549</td>\n",
              "      <td>1.0</td>\n",
              "      <td>94</td>\n",
              "    </tr>\n",
              "    <tr>\n",
              "      <th>36753</th>\n",
              "      <td>2022-03-06</td>\n",
              "      <td>Northern Mariana Islands</td>\n",
              "      <td>612.0</td>\n",
              "      <td>10126</td>\n",
              "      <td>NaN</td>\n",
              "      <td>30</td>\n",
              "    </tr>\n",
              "    <tr>\n",
              "      <th>32719</th>\n",
              "      <td>2023-11-12</td>\n",
              "      <td>Monaco</td>\n",
              "      <td>11.0</td>\n",
              "      <td>17120</td>\n",
              "      <td>NaN</td>\n",
              "      <td>67</td>\n",
              "    </tr>\n",
              "  </tbody>\n",
              "</table>\n",
              "</div>"
            ],
            "text/plain": [
              "      Date_reported                                            Country  \\\n",
              "33262    2021-02-07                                         Montserrat   \n",
              "13920    2023-06-18                                           Djibouti   \n",
              "37138    2020-10-11  occupied Palestinian territory, including east...   \n",
              "51955    2023-11-12                                            Ukraine   \n",
              "53238    2022-02-13                                         Uzbekistan   \n",
              "7891     2022-01-09                                         Cabo Verde   \n",
              "34224    2021-12-26                                            Namibia   \n",
              "31214    2021-05-09                                         Martinique   \n",
              "42017    2022-02-13                                       Saint Helena   \n",
              "53886    2021-05-16                                           Viet Nam   \n",
              "38816    2022-03-20                                               Peru   \n",
              "33840    2023-05-28                                         Mozambique   \n",
              "25167    2023-12-17                                              Italy   \n",
              "27311    2021-02-28                                         Kyrgyzstan   \n",
              "43755    2020-04-26                              Sao Tome and Principe   \n",
              "52165    2023-07-02                               United Arab Emirates   \n",
              "36979    2022-02-13                                             Norway   \n",
              "17699    2021-04-11                                      French Guiana   \n",
              "36753    2022-03-06                           Northern Mariana Islands   \n",
              "32719    2023-11-12                                             Monaco   \n",
              "\n",
              "       New_cases  Cumulative_cases  New_deaths  Cumulative_deaths  \n",
              "33262        2.0                15         NaN                  1  \n",
              "13920        NaN             15690         NaN                189  \n",
              "37138     3121.0             55134        52.0                442  \n",
              "51955      613.0           5521657         NaN             109918  \n",
              "53238     4133.0            152163        18.0                983  \n",
              "7891      7387.0             49850        10.0                363  \n",
              "34224     6579.0            146097        28.0               3611  \n",
              "31214      351.0             11490         8.0                 87  \n",
              "42017        NaN                 0         NaN                  0  \n",
              "53886      800.0              4212         2.0                 37  \n",
              "38816     5421.0           3540108       328.0             211751  \n",
              "33840        NaN            233417         NaN               2243  \n",
              "25167    66306.0          26568068       463.0             194741  \n",
              "27311        NaN                 0         NaN                  0  \n",
              "43755        4.0                 8         NaN                  0  \n",
              "52165        NaN           1067030         NaN               2349  \n",
              "36979   141784.0           1038520        54.0               1619  \n",
              "17699      417.0             17549         1.0                 94  \n",
              "36753      612.0             10126         NaN                 30  \n",
              "32719       11.0             17120         NaN                 67  "
            ]
          },
          "execution_count": 13,
          "metadata": {},
          "output_type": "execute_result"
        }
      ],
      "source": [
        "# 14) amostras aleatorias para comprovar que os dados não estão todos preenchidos\n",
        "dados_analise.sample(20)"
      ]
    },
    {
      "cell_type": "code",
      "execution_count": 15,
      "id": "GK_n7k9MH8-e",
      "metadata": {
        "colab": {
          "base_uri": "https://localhost:8080/"
        },
        "id": "GK_n7k9MH8-e",
        "outputId": "a043437c-16a3-4dd5-c1d2-bccb1ade2d20"
      },
      "outputs": [
        {
          "data": {
            "text/plain": [
              "Date_reported        2021-08-15\n",
              "Country                 Andorra\n",
              "New_cases                  88.0\n",
              "Cumulative_cases          14924\n",
              "New_deaths                  1.0\n",
              "Cumulative_deaths           129\n",
              "Name: 1000, dtype: object"
            ]
          },
          "execution_count": 15,
          "metadata": {},
          "output_type": "execute_result"
        }
      ],
      "source": [
        "# 15) Utilizar uma linha específica\n",
        "# o \"iloc\" localiza pela linha\n",
        "dados_analise.iloc[1000]"
      ]
    },
    {
      "cell_type": "code",
      "execution_count": 16,
      "id": "aYQFsRmzIWvG",
      "metadata": {
        "colab": {
          "base_uri": "https://localhost:8080/",
          "height": 455
        },
        "id": "aYQFsRmzIWvG",
        "outputId": "4d6cea65-197d-450e-f3a6-9d93f0c399b6"
      },
      "outputs": [
        {
          "data": {
            "text/html": [
              "<div>\n",
              "<style scoped>\n",
              "    .dataframe tbody tr th:only-of-type {\n",
              "        vertical-align: middle;\n",
              "    }\n",
              "\n",
              "    .dataframe tbody tr th {\n",
              "        vertical-align: top;\n",
              "    }\n",
              "\n",
              "    .dataframe thead th {\n",
              "        text-align: right;\n",
              "    }\n",
              "</style>\n",
              "<table border=\"1\" class=\"dataframe\">\n",
              "  <thead>\n",
              "    <tr style=\"text-align: right;\">\n",
              "      <th></th>\n",
              "      <th>Date_reported</th>\n",
              "      <th>New_cases</th>\n",
              "      <th>Cumulative_cases</th>\n",
              "      <th>New_deaths</th>\n",
              "      <th>Cumulative_deaths</th>\n",
              "    </tr>\n",
              "    <tr>\n",
              "      <th>Country</th>\n",
              "      <th></th>\n",
              "      <th></th>\n",
              "      <th></th>\n",
              "      <th></th>\n",
              "      <th></th>\n",
              "    </tr>\n",
              "  </thead>\n",
              "  <tbody>\n",
              "    <tr>\n",
              "      <th>Andorra</th>\n",
              "      <td>2020-01-05</td>\n",
              "      <td>NaN</td>\n",
              "      <td>0</td>\n",
              "      <td>NaN</td>\n",
              "      <td>0</td>\n",
              "    </tr>\n",
              "    <tr>\n",
              "      <th>Andorra</th>\n",
              "      <td>2020-01-12</td>\n",
              "      <td>NaN</td>\n",
              "      <td>0</td>\n",
              "      <td>NaN</td>\n",
              "      <td>0</td>\n",
              "    </tr>\n",
              "    <tr>\n",
              "      <th>Andorra</th>\n",
              "      <td>2020-01-19</td>\n",
              "      <td>NaN</td>\n",
              "      <td>0</td>\n",
              "      <td>NaN</td>\n",
              "      <td>0</td>\n",
              "    </tr>\n",
              "    <tr>\n",
              "      <th>Andorra</th>\n",
              "      <td>2020-01-26</td>\n",
              "      <td>NaN</td>\n",
              "      <td>0</td>\n",
              "      <td>NaN</td>\n",
              "      <td>0</td>\n",
              "    </tr>\n",
              "    <tr>\n",
              "      <th>Andorra</th>\n",
              "      <td>2020-02-02</td>\n",
              "      <td>NaN</td>\n",
              "      <td>0</td>\n",
              "      <td>NaN</td>\n",
              "      <td>0</td>\n",
              "    </tr>\n",
              "    <tr>\n",
              "      <th>...</th>\n",
              "      <td>...</td>\n",
              "      <td>...</td>\n",
              "      <td>...</td>\n",
              "      <td>...</td>\n",
              "      <td>...</td>\n",
              "    </tr>\n",
              "    <tr>\n",
              "      <th>Andorra</th>\n",
              "      <td>2024-04-21</td>\n",
              "      <td>NaN</td>\n",
              "      <td>48015</td>\n",
              "      <td>NaN</td>\n",
              "      <td>159</td>\n",
              "    </tr>\n",
              "    <tr>\n",
              "      <th>Andorra</th>\n",
              "      <td>2024-04-28</td>\n",
              "      <td>NaN</td>\n",
              "      <td>48015</td>\n",
              "      <td>NaN</td>\n",
              "      <td>159</td>\n",
              "    </tr>\n",
              "    <tr>\n",
              "      <th>Andorra</th>\n",
              "      <td>2024-05-05</td>\n",
              "      <td>NaN</td>\n",
              "      <td>48015</td>\n",
              "      <td>NaN</td>\n",
              "      <td>159</td>\n",
              "    </tr>\n",
              "    <tr>\n",
              "      <th>Andorra</th>\n",
              "      <td>2024-05-12</td>\n",
              "      <td>NaN</td>\n",
              "      <td>48015</td>\n",
              "      <td>NaN</td>\n",
              "      <td>159</td>\n",
              "    </tr>\n",
              "    <tr>\n",
              "      <th>Andorra</th>\n",
              "      <td>2024-05-19</td>\n",
              "      <td>NaN</td>\n",
              "      <td>48015</td>\n",
              "      <td>NaN</td>\n",
              "      <td>159</td>\n",
              "    </tr>\n",
              "  </tbody>\n",
              "</table>\n",
              "<p>229 rows × 5 columns</p>\n",
              "</div>"
            ],
            "text/plain": [
              "        Date_reported  New_cases  Cumulative_cases  New_deaths  \\\n",
              "Country                                                          \n",
              "Andorra    2020-01-05        NaN                 0         NaN   \n",
              "Andorra    2020-01-12        NaN                 0         NaN   \n",
              "Andorra    2020-01-19        NaN                 0         NaN   \n",
              "Andorra    2020-01-26        NaN                 0         NaN   \n",
              "Andorra    2020-02-02        NaN                 0         NaN   \n",
              "...               ...        ...               ...         ...   \n",
              "Andorra    2024-04-21        NaN             48015         NaN   \n",
              "Andorra    2024-04-28        NaN             48015         NaN   \n",
              "Andorra    2024-05-05        NaN             48015         NaN   \n",
              "Andorra    2024-05-12        NaN             48015         NaN   \n",
              "Andorra    2024-05-19        NaN             48015         NaN   \n",
              "\n",
              "         Cumulative_deaths  \n",
              "Country                     \n",
              "Andorra                  0  \n",
              "Andorra                  0  \n",
              "Andorra                  0  \n",
              "Andorra                  0  \n",
              "Andorra                  0  \n",
              "...                    ...  \n",
              "Andorra                159  \n",
              "Andorra                159  \n",
              "Andorra                159  \n",
              "Andorra                159  \n",
              "Andorra                159  \n",
              "\n",
              "[229 rows x 5 columns]"
            ]
          },
          "execution_count": 16,
          "metadata": {},
          "output_type": "execute_result"
        }
      ],
      "source": [
        "# 16) Mudar o índice\n",
        "#o \" loc\" localiza pelo índice\n",
        "dados_analise.set_index(\"Country\").loc[\"Andorra\"]"
      ]
    },
    {
      "cell_type": "code",
      "execution_count": 17,
      "id": "235617e1",
      "metadata": {
        "colab": {
          "base_uri": "https://localhost:8080/"
        },
        "id": "235617e1",
        "outputId": "386b2e3f-54dd-447a-9951-79449be2d8e7"
      },
      "outputs": [
        {
          "data": {
            "text/plain": [
              "Date_reported                      2024-05-19\n",
              "Country              United States of America\n",
              "New_cases                                 NaN\n",
              "Cumulative_cases                    103436829\n",
              "New_deaths                              224.0\n",
              "Cumulative_deaths                     1187771\n",
              "Name: 52669, dtype: object"
            ]
          },
          "execution_count": 17,
          "metadata": {},
          "output_type": "execute_result"
        }
      ],
      "source": [
        "# 17) Buscar valores específicos, como a linha com o maior valor de Cumulative_deaths:\n",
        "dados_analise.loc[dados_analise['Cumulative_deaths'].idxmax()]"
      ]
    },
    {
      "cell_type": "code",
      "execution_count": 18,
      "id": "VGZkhTwhvhqv",
      "metadata": {
        "colab": {
          "base_uri": "https://localhost:8080/",
          "height": 35
        },
        "id": "VGZkhTwhvhqv",
        "outputId": "09308688-f0c6-4a7d-ebdf-f8410d505c52"
      },
      "outputs": [
        {
          "data": {
            "text/plain": [
              "'2024-05-19'"
            ]
          },
          "execution_count": 18,
          "metadata": {},
          "output_type": "execute_result"
        }
      ],
      "source": [
        "# 18) Buscar valores específicos, como data mais recente e o resultado armazenar em uma variável:\n",
        "ultima_data = dados_analise[\"Date_reported\"].max()\n",
        "ultima_data"
      ]
    },
    {
      "cell_type": "code",
      "execution_count": 19,
      "id": "2tYMnqfsJdUa",
      "metadata": {
        "colab": {
          "base_uri": "https://localhost:8080/",
          "height": 424
        },
        "id": "2tYMnqfsJdUa",
        "outputId": "7aee2813-c030-41fd-f4a4-6f49ef98daf7"
      },
      "outputs": [
        {
          "data": {
            "text/html": [
              "<div>\n",
              "<style scoped>\n",
              "    .dataframe tbody tr th:only-of-type {\n",
              "        vertical-align: middle;\n",
              "    }\n",
              "\n",
              "    .dataframe tbody tr th {\n",
              "        vertical-align: top;\n",
              "    }\n",
              "\n",
              "    .dataframe thead th {\n",
              "        text-align: right;\n",
              "    }\n",
              "</style>\n",
              "<table border=\"1\" class=\"dataframe\">\n",
              "  <thead>\n",
              "    <tr style=\"text-align: right;\">\n",
              "      <th></th>\n",
              "      <th>Date_reported</th>\n",
              "      <th>Country</th>\n",
              "      <th>New_cases</th>\n",
              "      <th>Cumulative_cases</th>\n",
              "      <th>New_deaths</th>\n",
              "      <th>Cumulative_deaths</th>\n",
              "    </tr>\n",
              "  </thead>\n",
              "  <tbody>\n",
              "    <tr>\n",
              "      <th>228</th>\n",
              "      <td>2024-05-19</td>\n",
              "      <td>Afghanistan</td>\n",
              "      <td>NaN</td>\n",
              "      <td>235214</td>\n",
              "      <td>NaN</td>\n",
              "      <td>7998</td>\n",
              "    </tr>\n",
              "    <tr>\n",
              "      <th>457</th>\n",
              "      <td>2024-05-19</td>\n",
              "      <td>Albania</td>\n",
              "      <td>NaN</td>\n",
              "      <td>334863</td>\n",
              "      <td>NaN</td>\n",
              "      <td>3605</td>\n",
              "    </tr>\n",
              "    <tr>\n",
              "      <th>686</th>\n",
              "      <td>2024-05-19</td>\n",
              "      <td>Algeria</td>\n",
              "      <td>1.0</td>\n",
              "      <td>272028</td>\n",
              "      <td>NaN</td>\n",
              "      <td>6881</td>\n",
              "    </tr>\n",
              "    <tr>\n",
              "      <th>915</th>\n",
              "      <td>2024-05-19</td>\n",
              "      <td>American Samoa</td>\n",
              "      <td>NaN</td>\n",
              "      <td>8359</td>\n",
              "      <td>NaN</td>\n",
              "      <td>34</td>\n",
              "    </tr>\n",
              "    <tr>\n",
              "      <th>1144</th>\n",
              "      <td>2024-05-19</td>\n",
              "      <td>Andorra</td>\n",
              "      <td>NaN</td>\n",
              "      <td>48015</td>\n",
              "      <td>NaN</td>\n",
              "      <td>159</td>\n",
              "    </tr>\n",
              "    <tr>\n",
              "      <th>...</th>\n",
              "      <td>...</td>\n",
              "      <td>...</td>\n",
              "      <td>...</td>\n",
              "      <td>...</td>\n",
              "      <td>...</td>\n",
              "      <td>...</td>\n",
              "    </tr>\n",
              "    <tr>\n",
              "      <th>54043</th>\n",
              "      <td>2024-05-19</td>\n",
              "      <td>Viet Nam</td>\n",
              "      <td>NaN</td>\n",
              "      <td>11624000</td>\n",
              "      <td>NaN</td>\n",
              "      <td>43206</td>\n",
              "    </tr>\n",
              "    <tr>\n",
              "      <th>54272</th>\n",
              "      <td>2024-05-19</td>\n",
              "      <td>Wallis and Futuna</td>\n",
              "      <td>NaN</td>\n",
              "      <td>3760</td>\n",
              "      <td>NaN</td>\n",
              "      <td>9</td>\n",
              "    </tr>\n",
              "    <tr>\n",
              "      <th>54501</th>\n",
              "      <td>2024-05-19</td>\n",
              "      <td>Yemen</td>\n",
              "      <td>NaN</td>\n",
              "      <td>11945</td>\n",
              "      <td>NaN</td>\n",
              "      <td>2159</td>\n",
              "    </tr>\n",
              "    <tr>\n",
              "      <th>54730</th>\n",
              "      <td>2024-05-19</td>\n",
              "      <td>Zambia</td>\n",
              "      <td>4.0</td>\n",
              "      <td>349644</td>\n",
              "      <td>NaN</td>\n",
              "      <td>4069</td>\n",
              "    </tr>\n",
              "    <tr>\n",
              "      <th>54959</th>\n",
              "      <td>2024-05-19</td>\n",
              "      <td>Zimbabwe</td>\n",
              "      <td>NaN</td>\n",
              "      <td>266362</td>\n",
              "      <td>NaN</td>\n",
              "      <td>5740</td>\n",
              "    </tr>\n",
              "  </tbody>\n",
              "</table>\n",
              "<p>240 rows × 6 columns</p>\n",
              "</div>"
            ],
            "text/plain": [
              "      Date_reported            Country  New_cases  Cumulative_cases  \\\n",
              "228      2024-05-19        Afghanistan        NaN            235214   \n",
              "457      2024-05-19            Albania        NaN            334863   \n",
              "686      2024-05-19            Algeria        1.0            272028   \n",
              "915      2024-05-19     American Samoa        NaN              8359   \n",
              "1144     2024-05-19            Andorra        NaN             48015   \n",
              "...             ...                ...        ...               ...   \n",
              "54043    2024-05-19           Viet Nam        NaN          11624000   \n",
              "54272    2024-05-19  Wallis and Futuna        NaN              3760   \n",
              "54501    2024-05-19              Yemen        NaN             11945   \n",
              "54730    2024-05-19             Zambia        4.0            349644   \n",
              "54959    2024-05-19           Zimbabwe        NaN            266362   \n",
              "\n",
              "       New_deaths  Cumulative_deaths  \n",
              "228           NaN               7998  \n",
              "457           NaN               3605  \n",
              "686           NaN               6881  \n",
              "915           NaN                 34  \n",
              "1144          NaN                159  \n",
              "...           ...                ...  \n",
              "54043         NaN              43206  \n",
              "54272         NaN                  9  \n",
              "54501         NaN               2159  \n",
              "54730         NaN               4069  \n",
              "54959         NaN               5740  \n",
              "\n",
              "[240 rows x 6 columns]"
            ]
          },
          "execution_count": 19,
          "metadata": {},
          "output_type": "execute_result"
        }
      ],
      "source": [
        "# 19) Exibindo os dados de cada país na data mais recente de nossa base de dados\n",
        "dados_ultima_data = dados_analise.loc[dados_analise['Date_reported'] == ultima_data]\n",
        "dados_ultima_data"
      ]
    },
    {
      "cell_type": "code",
      "execution_count": 20,
      "id": "5TPQO7ZJcn4b",
      "metadata": {
        "colab": {
          "base_uri": "https://localhost:8080/"
        },
        "id": "5TPQO7ZJcn4b",
        "outputId": "5f397582-accc-4474-8037-e76a90b542dc"
      },
      "outputs": [
        {
          "data": {
            "text/plain": [
              "228            Afghanistan\n",
              "457                Albania\n",
              "686                Algeria\n",
              "915         American Samoa\n",
              "1144               Andorra\n",
              "               ...        \n",
              "54043             Viet Nam\n",
              "54272    Wallis and Futuna\n",
              "54501                Yemen\n",
              "54730               Zambia\n",
              "54959             Zimbabwe\n",
              "Name: Country, Length: 240, dtype: object"
            ]
          },
          "execution_count": 20,
          "metadata": {},
          "output_type": "execute_result"
        }
      ],
      "source": [
        "# 20) Criar serie de dados \"Country\" da última da data\n",
        "dados_ultima_data['Country']\n"
      ]
    },
    {
      "cell_type": "markdown",
      "id": "x_8NolYd1shO",
      "metadata": {
        "id": "x_8NolYd1shO"
      },
      "source": [
        "## Exercício 3\n",
        "\n",
        "#### - Analisando a saída da célula de código número 16, responda com que frequência os dados são reportados para a base de dados;\n",
        "\n",
        "#### - Analisando a saída da célula de código número 19, responda o motivo dos indíces não aparecem em ordem sequencial;\n",
        "\n",
        "##### * dica de Resposta: utilize uma célula de texto e identifique cada item da resposta.\n",
        "\n",
        "\n",
        "\n"
      ]
    },
    {
      "cell_type": "markdown",
      "id": "2f28806e",
      "metadata": {},
      "source": [
        "7 em 7 dias"
      ]
    },
    {
      "cell_type": "markdown",
      "id": "129ae87d",
      "metadata": {},
      "source": [
        "Os indíces atuais são os mesmos, para os mesmos valores, do dataframe anterior"
      ]
    },
    {
      "cell_type": "markdown",
      "id": "jabLFM_BLYc7",
      "metadata": {
        "id": "jabLFM_BLYc7"
      },
      "source": [
        "# Transformando a coluna que possui dados de datas em um conjunto de objetos"
      ]
    },
    {
      "cell_type": "code",
      "execution_count": 35,
      "id": "HER-k1tv1Agv",
      "metadata": {
        "id": "HER-k1tv1Agv"
      },
      "outputs": [],
      "source": [
        "# 21) Podemos dizer ao DataFrame que a coluna de Date_reported deve ser tratada como um conjunto de objetos datetime usando a função Pandas to_datetime()\n",
        "\n",
        "dados_analise[\"Date_reported\"] = pd.to_datetime(dados_analise['Date_reported'])\n",
        "\n",
        "# O código acima diz ao Pandas para converter a coluna de data no DataFrame \"dados_analise\" em um conjunto de instâncias de data e hora e então substituir a coluna original\n",
        "# pela nova versão.\n",
        "# Observe que as colunas podem ser acessadas usando a notação de colchetes (índice).\n"
      ]
    },
    {
      "cell_type": "code",
      "execution_count": 36,
      "id": "vrV6WN3VLXvI",
      "metadata": {
        "colab": {
          "base_uri": "https://localhost:8080/",
          "height": 424
        },
        "id": "vrV6WN3VLXvI",
        "outputId": "7c31f43c-143e-467f-cdb6-150be05e6381"
      },
      "outputs": [
        {
          "data": {
            "text/html": [
              "<div>\n",
              "<style scoped>\n",
              "    .dataframe tbody tr th:only-of-type {\n",
              "        vertical-align: middle;\n",
              "    }\n",
              "\n",
              "    .dataframe tbody tr th {\n",
              "        vertical-align: top;\n",
              "    }\n",
              "\n",
              "    .dataframe thead th {\n",
              "        text-align: right;\n",
              "    }\n",
              "</style>\n",
              "<table border=\"1\" class=\"dataframe\">\n",
              "  <thead>\n",
              "    <tr style=\"text-align: right;\">\n",
              "      <th></th>\n",
              "      <th>Date_reported</th>\n",
              "      <th>Country</th>\n",
              "      <th>New_cases</th>\n",
              "      <th>Cumulative_cases</th>\n",
              "      <th>New_deaths</th>\n",
              "      <th>Cumulative_deaths</th>\n",
              "    </tr>\n",
              "  </thead>\n",
              "  <tbody>\n",
              "    <tr>\n",
              "      <th>209</th>\n",
              "      <td>2024-01-07</td>\n",
              "      <td>Afghanistan</td>\n",
              "      <td>267.0</td>\n",
              "      <td>230642</td>\n",
              "      <td>NaN</td>\n",
              "      <td>7973</td>\n",
              "    </tr>\n",
              "    <tr>\n",
              "      <th>210</th>\n",
              "      <td>2024-01-14</td>\n",
              "      <td>Afghanistan</td>\n",
              "      <td>213.0</td>\n",
              "      <td>230855</td>\n",
              "      <td>2.0</td>\n",
              "      <td>7975</td>\n",
              "    </tr>\n",
              "    <tr>\n",
              "      <th>211</th>\n",
              "      <td>2024-01-21</td>\n",
              "      <td>Afghanistan</td>\n",
              "      <td>197.0</td>\n",
              "      <td>231052</td>\n",
              "      <td>1.0</td>\n",
              "      <td>7976</td>\n",
              "    </tr>\n",
              "    <tr>\n",
              "      <th>438</th>\n",
              "      <td>2024-01-07</td>\n",
              "      <td>Albania</td>\n",
              "      <td>57.0</td>\n",
              "      <td>334653</td>\n",
              "      <td>NaN</td>\n",
              "      <td>3604</td>\n",
              "    </tr>\n",
              "    <tr>\n",
              "      <th>439</th>\n",
              "      <td>2024-01-14</td>\n",
              "      <td>Albania</td>\n",
              "      <td>99.0</td>\n",
              "      <td>334752</td>\n",
              "      <td>NaN</td>\n",
              "      <td>3604</td>\n",
              "    </tr>\n",
              "    <tr>\n",
              "      <th>...</th>\n",
              "      <td>...</td>\n",
              "      <td>...</td>\n",
              "      <td>...</td>\n",
              "      <td>...</td>\n",
              "      <td>...</td>\n",
              "      <td>...</td>\n",
              "    </tr>\n",
              "    <tr>\n",
              "      <th>54712</th>\n",
              "      <td>2024-01-14</td>\n",
              "      <td>Zambia</td>\n",
              "      <td>NaN</td>\n",
              "      <td>349304</td>\n",
              "      <td>NaN</td>\n",
              "      <td>4069</td>\n",
              "    </tr>\n",
              "    <tr>\n",
              "      <th>54713</th>\n",
              "      <td>2024-01-21</td>\n",
              "      <td>Zambia</td>\n",
              "      <td>NaN</td>\n",
              "      <td>349304</td>\n",
              "      <td>NaN</td>\n",
              "      <td>4069</td>\n",
              "    </tr>\n",
              "    <tr>\n",
              "      <th>54940</th>\n",
              "      <td>2024-01-07</td>\n",
              "      <td>Zimbabwe</td>\n",
              "      <td>46.0</td>\n",
              "      <td>266117</td>\n",
              "      <td>3.0</td>\n",
              "      <td>5734</td>\n",
              "    </tr>\n",
              "    <tr>\n",
              "      <th>54941</th>\n",
              "      <td>2024-01-14</td>\n",
              "      <td>Zimbabwe</td>\n",
              "      <td>85.0</td>\n",
              "      <td>266202</td>\n",
              "      <td>3.0</td>\n",
              "      <td>5737</td>\n",
              "    </tr>\n",
              "    <tr>\n",
              "      <th>54942</th>\n",
              "      <td>2024-01-21</td>\n",
              "      <td>Zimbabwe</td>\n",
              "      <td>55.0</td>\n",
              "      <td>266257</td>\n",
              "      <td>NaN</td>\n",
              "      <td>5737</td>\n",
              "    </tr>\n",
              "  </tbody>\n",
              "</table>\n",
              "<p>720 rows × 6 columns</p>\n",
              "</div>"
            ],
            "text/plain": [
              "      Date_reported      Country  New_cases  Cumulative_cases  New_deaths  \\\n",
              "209      2024-01-07  Afghanistan      267.0            230642         NaN   \n",
              "210      2024-01-14  Afghanistan      213.0            230855         2.0   \n",
              "211      2024-01-21  Afghanistan      197.0            231052         1.0   \n",
              "438      2024-01-07      Albania       57.0            334653         NaN   \n",
              "439      2024-01-14      Albania       99.0            334752         NaN   \n",
              "...             ...          ...        ...               ...         ...   \n",
              "54712    2024-01-14       Zambia        NaN            349304         NaN   \n",
              "54713    2024-01-21       Zambia        NaN            349304         NaN   \n",
              "54940    2024-01-07     Zimbabwe       46.0            266117         3.0   \n",
              "54941    2024-01-14     Zimbabwe       85.0            266202         3.0   \n",
              "54942    2024-01-21     Zimbabwe       55.0            266257         NaN   \n",
              "\n",
              "       Cumulative_deaths  \n",
              "209                 7973  \n",
              "210                 7975  \n",
              "211                 7976  \n",
              "438                 3604  \n",
              "439                 3604  \n",
              "...                  ...  \n",
              "54712               4069  \n",
              "54713               4069  \n",
              "54940               5734  \n",
              "54941               5737  \n",
              "54942               5737  \n",
              "\n",
              "[720 rows x 6 columns]"
            ]
          },
          "execution_count": 36,
          "metadata": {},
          "output_type": "execute_result"
        }
      ],
      "source": [
        "# 22) Criando um intervalo de tempo\n",
        "mascara_data = (dados_analise['Date_reported'] > '2023-12-31') & (dados_analise['Date_reported'] <= '2024-01-21')\n",
        "dados_analise.loc[mascara_data]\n"
      ]
    },
    {
      "cell_type": "code",
      "execution_count": 44,
      "id": "91c1b001",
      "metadata": {
        "colab": {
          "base_uri": "https://localhost:8080/"
        },
        "id": "91c1b001",
        "outputId": "96054a7d-d9e9-4854-b15b-e3c124bf0aad"
      },
      "outputs": [
        {
          "data": {
            "text/plain": [
              "Date_reported        False\n",
              "Country              False\n",
              "New_cases             True\n",
              "Cumulative_cases     False\n",
              "New_deaths            True\n",
              "Cumulative_deaths    False\n",
              "dtype: bool"
            ]
          },
          "execution_count": 44,
          "metadata": {},
          "output_type": "execute_result"
        }
      ],
      "source": [
        "# 23) Avalie se a sua base possui algum valor de missing:\n",
        "### Podemos examinar com o comando abaixo se existe algum dado ausente em relação às nossas variáveis.\n",
        "dados_ultima_data.isnull().any()\n"
      ]
    },
    {
      "cell_type": "code",
      "execution_count": 53,
      "id": "tUmgPp8AYYLX",
      "metadata": {
        "colab": {
          "base_uri": "https://localhost:8080/"
        },
        "id": "tUmgPp8AYYLX",
        "outputId": "e327680f-baf3-404d-fa26-a5c9456596c5"
      },
      "outputs": [
        {
          "data": {
            "text/plain": [
              "New_cases\n",
              "NaN       16878\n",
              "1.0         990\n",
              "2.0         747\n",
              "3.0         590\n",
              "4.0         466\n",
              "          ...  \n",
              "4315.0        1\n",
              "4429.0        1\n",
              "3229.0        1\n",
              "4562.0        1\n",
              "7704.0        1\n",
              "Name: count, Length: 11933, dtype: int64"
            ]
          },
          "execution_count": 53,
          "metadata": {},
          "output_type": "execute_result"
        }
      ],
      "source": [
        "# 24) comprovando que existem valores faltantes na coluna dos paises\n",
        "dados[\"New_cases\"].value_counts(dropna=False)"
      ]
    },
    {
      "cell_type": "markdown",
      "id": "z8guTaEv5XwL",
      "metadata": {
        "id": "z8guTaEv5XwL"
      },
      "source": [
        "## Exercício 4\n",
        "\n",
        "#### - Crie um novo DataFrame apenas com a coluna dos países e as colunas que não possuem dados faltantes e imprima as 5 primeiras entradas.\n",
        "\n",
        "#### - A partir do DataFrame criado, busque os dados reportados pelo Brasil e armazene em um outro DataFrame chamado \"casos_Brasil\";\n",
        "\n",
        "#### - A partir do DataFrame \"casos_Brasil\", exiba a média de casos acumulados e mortes acumuladas;\n",
        "\n",
        "##### * dica de Resposta: utilize uma célula de código para cada item da resposta."
      ]
    },
    {
      "cell_type": "code",
      "execution_count": 57,
      "id": "b261fbe2",
      "metadata": {},
      "outputs": [
        {
          "data": {
            "text/html": [
              "<div>\n",
              "<style scoped>\n",
              "    .dataframe tbody tr th:only-of-type {\n",
              "        vertical-align: middle;\n",
              "    }\n",
              "\n",
              "    .dataframe tbody tr th {\n",
              "        vertical-align: top;\n",
              "    }\n",
              "\n",
              "    .dataframe thead th {\n",
              "        text-align: right;\n",
              "    }\n",
              "</style>\n",
              "<table border=\"1\" class=\"dataframe\">\n",
              "  <thead>\n",
              "    <tr style=\"text-align: right;\">\n",
              "      <th></th>\n",
              "      <th>Date_reported</th>\n",
              "      <th>Country</th>\n",
              "      <th>Cumulative_cases</th>\n",
              "      <th>Cumulative_deaths</th>\n",
              "    </tr>\n",
              "  </thead>\n",
              "  <tbody>\n",
              "    <tr>\n",
              "      <th>0</th>\n",
              "      <td>2020-01-05</td>\n",
              "      <td>Afghanistan</td>\n",
              "      <td>0</td>\n",
              "      <td>0</td>\n",
              "    </tr>\n",
              "    <tr>\n",
              "      <th>1</th>\n",
              "      <td>2020-01-12</td>\n",
              "      <td>Afghanistan</td>\n",
              "      <td>0</td>\n",
              "      <td>0</td>\n",
              "    </tr>\n",
              "    <tr>\n",
              "      <th>2</th>\n",
              "      <td>2020-01-19</td>\n",
              "      <td>Afghanistan</td>\n",
              "      <td>0</td>\n",
              "      <td>0</td>\n",
              "    </tr>\n",
              "    <tr>\n",
              "      <th>3</th>\n",
              "      <td>2020-01-26</td>\n",
              "      <td>Afghanistan</td>\n",
              "      <td>0</td>\n",
              "      <td>0</td>\n",
              "    </tr>\n",
              "    <tr>\n",
              "      <th>4</th>\n",
              "      <td>2020-02-02</td>\n",
              "      <td>Afghanistan</td>\n",
              "      <td>0</td>\n",
              "      <td>0</td>\n",
              "    </tr>\n",
              "  </tbody>\n",
              "</table>\n",
              "</div>"
            ],
            "text/plain": [
              "  Date_reported      Country  Cumulative_cases  Cumulative_deaths\n",
              "0    2020-01-05  Afghanistan                 0                  0\n",
              "1    2020-01-12  Afghanistan                 0                  0\n",
              "2    2020-01-19  Afghanistan                 0                  0\n",
              "3    2020-01-26  Afghanistan                 0                  0\n",
              "4    2020-02-02  Afghanistan                 0                  0"
            ]
          },
          "execution_count": 57,
          "metadata": {},
          "output_type": "execute_result"
        }
      ],
      "source": [
        "dados_col_sem_na = dados_analise.dropna(axis=1)\n",
        "dados_col_sem_na.head()"
      ]
    },
    {
      "cell_type": "code",
      "execution_count": 69,
      "id": "45aa8e0b",
      "metadata": {},
      "outputs": [
        {
          "data": {
            "text/plain": [
              "(23464421.401746724, 496371.34497816593)"
            ]
          },
          "execution_count": 69,
          "metadata": {},
          "output_type": "execute_result"
        }
      ],
      "source": [
        "mascara_casos_Brasil = dados_col_sem_na[\"Country\"] == \"Brazil\"\n",
        "casos_Brasil = dados_col_sem_na[mascara_casos_Brasil]\n",
        "casos_Brasil[\"Cumulative_cases\"].mean(), casos_Brasil[\"Cumulative_deaths\"].mean()"
      ]
    },
    {
      "cell_type": "markdown",
      "id": "oWE9k2FxBdfc",
      "metadata": {
        "id": "oWE9k2FxBdfc"
      },
      "source": [
        "### Visualização de Dados através dos primeiros gráficos"
      ]
    },
    {
      "cell_type": "code",
      "execution_count": 70,
      "id": "ze9fjLqvEer5",
      "metadata": {
        "colab": {
          "base_uri": "https://localhost:8080/",
          "height": 482
        },
        "id": "ze9fjLqvEer5",
        "outputId": "4c851b94-7b32-4196-a9de-ddc174fe8a73"
      },
      "outputs": [
        {
          "data": {
            "text/plain": [
              "<Axes: >"
            ]
          },
          "execution_count": 70,
          "metadata": {},
          "output_type": "execute_result"
        },
        {
          "data": {
            "image/png": "[encoded data removed]",
            "text/plain": [
              "<Figure size 640x480 with 1 Axes>"
            ]
          },
          "metadata": {},
          "output_type": "display_data"
        }
      ],
      "source": [
        "# 25) Gráfico simples de linha \"Cumulative_cases\"\n",
        "\n",
        "casos_Brasil['Cumulative_cases'].plot()"
      ]
    },
    {
      "cell_type": "code",
      "execution_count": 71,
      "id": "X9OQJMEqFcXT",
      "metadata": {
        "colab": {
          "base_uri": "https://localhost:8080/",
          "height": 467
        },
        "id": "X9OQJMEqFcXT",
        "outputId": "78c3c13b-28a4-48ef-d2d2-848e24d824aa"
      },
      "outputs": [
        {
          "data": {
            "text/plain": [
              "<Axes: xlabel='Cumulative_cases'>"
            ]
          },
          "execution_count": 71,
          "metadata": {},
          "output_type": "execute_result"
        },
        {
          "data": {
            "image/png": "[encoded data removed]",
            "text/plain": [
              "<Figure size 640x480 with 1 Axes>"
            ]
          },
          "metadata": {},
          "output_type": "display_data"
        }
      ],
      "source": [
        "# 26) gráfico de linha: Casos x mortes (acumulados)\n",
        "casos_Brasil.plot(x='Cumulative_cases', y='Cumulative_deaths')"
      ]
    },
    {
      "cell_type": "code",
      "execution_count": 72,
      "id": "JGhe0dofCEoU",
      "metadata": {
        "colab": {
          "base_uri": "https://localhost:8080/",
          "height": 514
        },
        "id": "JGhe0dofCEoU",
        "outputId": "cd33566a-2a29-4cd6-d3d8-54dfb6da59f5"
      },
      "outputs": [
        {
          "data": {
            "text/plain": [
              "<Axes: title={'center': 'Cumulative_cases'}>"
            ]
          },
          "execution_count": 72,
          "metadata": {},
          "output_type": "execute_result"
        },
        {
          "data": {
            "image/png": "[encoded data removed]",
            "text/plain": [
              "<Figure size 640x480 with 1 Axes>"
            ]
          },
          "metadata": {},
          "output_type": "display_data"
        }
      ],
      "source": [
        "# 27) Gráfico em barra de Cumulative_cases\n",
        "\n",
        "casos_Brasil['Cumulative_cases'].plot(kind='bar', title='Cumulative_cases')\n"
      ]
    },
    {
      "cell_type": "code",
      "execution_count": 73,
      "id": "DuKB7OJ7eDHP",
      "metadata": {
        "colab": {
          "base_uri": "https://localhost:8080/",
          "height": 176
        },
        "id": "DuKB7OJ7eDHP",
        "outputId": "eac00fef-d90a-406d-b80d-3e8e87bd91d8"
      },
      "outputs": [
        {
          "data": {
            "text/plain": [
              "<Axes: title={'center': 'Cumulative_cases'}>"
            ]
          },
          "execution_count": 73,
          "metadata": {},
          "output_type": "execute_result"
        },
        {
          "data": {
            "image/png": "[encoded data removed]",
            "text/plain": [
              "<Figure size 800x400 with 1 Axes>"
            ]
          },
          "metadata": {},
          "output_type": "display_data"
        }
      ],
      "source": [
        "# 28) Gráfico em barra de Cumulative_cases\n",
        "\n",
        "casos_Brasil['Cumulative_cases'].plot(kind='bar', figsize=(8, 4), title='Cumulative_cases')"
      ]
    },
    {
      "cell_type": "code",
      "execution_count": 74,
      "id": "wpEer0-uCbGq",
      "metadata": {
        "colab": {
          "base_uri": "https://localhost:8080/",
          "height": 469
        },
        "id": "wpEer0-uCbGq",
        "outputId": "94ed478d-c297-4f4d-e021-608a9b060c0e"
      },
      "outputs": [
        {
          "data": {
            "text/plain": [
              "<Axes: title={'center': 'Cumulative_deaths'}, ylabel='Frequency'>"
            ]
          },
          "execution_count": 74,
          "metadata": {},
          "output_type": "execute_result"
        },
        {
          "data": {
            "image/png": "[encoded data removed]",
            "text/plain": [
              "<Figure size 640x480 with 1 Axes>"
            ]
          },
          "metadata": {},
          "output_type": "display_data"
        }
      ],
      "source": [
        "# 29) Gráfico em histograma de Cumulative_cases\n",
        "\n",
        "casos_Brasil['Cumulative_deaths'].plot(kind='hist', bins=20, title='Cumulative_deaths')\n"
      ]
    },
    {
      "cell_type": "markdown",
      "id": "p1lGseEm8jVt",
      "metadata": {
        "id": "p1lGseEm8jVt"
      },
      "source": [
        "## Exercício 5\n",
        "\n",
        "#### - Crie um novo DataFrame apenas com o país que contém o maior número de mortes acumuladas em um único dia;\n",
        "\n",
        "#### - A partir do DataFrame criado, crie um outro (sugestão de nome \"pais_maior_numero_mortes\") apenas com as colunas que não possuem dados faltantes e imprima as 5 primeiras entradas;\n",
        "\n",
        "#### - A partir do DataFrame \"pais_maior_numero_mortes\", exiba a média de casos acumulados e mortes acumuladas;\n",
        "\n",
        "#### - Agora plot um gráfico de barras que exiba os casos acumulados por países;\n",
        "\n",
        "#### - Por fim, plot um histograma que exiba as mortes acumuladas e sua respectiva frequência;\n",
        "\n",
        "##### * dica de Resposta: utilize uma célula de código para cada item da resposta."
      ]
    },
    {
      "cell_type": "code",
      "execution_count": 80,
      "id": "2c485df8",
      "metadata": {},
      "outputs": [
        {
          "data": {
            "text/html": [
              "<div>\n",
              "<style scoped>\n",
              "    .dataframe tbody tr th:only-of-type {\n",
              "        vertical-align: middle;\n",
              "    }\n",
              "\n",
              "    .dataframe tbody tr th {\n",
              "        vertical-align: top;\n",
              "    }\n",
              "\n",
              "    .dataframe thead th {\n",
              "        text-align: right;\n",
              "    }\n",
              "</style>\n",
              "<table border=\"1\" class=\"dataframe\">\n",
              "  <thead>\n",
              "    <tr style=\"text-align: right;\">\n",
              "      <th></th>\n",
              "      <th>Date_reported</th>\n",
              "      <th>Country</th>\n",
              "      <th>New_cases</th>\n",
              "      <th>Cumulative_cases</th>\n",
              "      <th>New_deaths</th>\n",
              "      <th>Cumulative_deaths</th>\n",
              "    </tr>\n",
              "  </thead>\n",
              "  <tbody>\n",
              "    <tr>\n",
              "      <th>52441</th>\n",
              "      <td>2020-01-05</td>\n",
              "      <td>United States of America</td>\n",
              "      <td>NaN</td>\n",
              "      <td>0</td>\n",
              "      <td>NaN</td>\n",
              "      <td>0</td>\n",
              "    </tr>\n",
              "    <tr>\n",
              "      <th>52442</th>\n",
              "      <td>2020-01-12</td>\n",
              "      <td>United States of America</td>\n",
              "      <td>NaN</td>\n",
              "      <td>0</td>\n",
              "      <td>NaN</td>\n",
              "      <td>0</td>\n",
              "    </tr>\n",
              "    <tr>\n",
              "      <th>52443</th>\n",
              "      <td>2020-01-19</td>\n",
              "      <td>United States of America</td>\n",
              "      <td>NaN</td>\n",
              "      <td>0</td>\n",
              "      <td>NaN</td>\n",
              "      <td>0</td>\n",
              "    </tr>\n",
              "    <tr>\n",
              "      <th>52444</th>\n",
              "      <td>2020-01-26</td>\n",
              "      <td>United States of America</td>\n",
              "      <td>7.0</td>\n",
              "      <td>7</td>\n",
              "      <td>NaN</td>\n",
              "      <td>0</td>\n",
              "    </tr>\n",
              "    <tr>\n",
              "      <th>52445</th>\n",
              "      <td>2020-02-02</td>\n",
              "      <td>United States of America</td>\n",
              "      <td>2.0</td>\n",
              "      <td>9</td>\n",
              "      <td>NaN</td>\n",
              "      <td>0</td>\n",
              "    </tr>\n",
              "    <tr>\n",
              "      <th>...</th>\n",
              "      <td>...</td>\n",
              "      <td>...</td>\n",
              "      <td>...</td>\n",
              "      <td>...</td>\n",
              "      <td>...</td>\n",
              "      <td>...</td>\n",
              "    </tr>\n",
              "    <tr>\n",
              "      <th>52665</th>\n",
              "      <td>2024-04-21</td>\n",
              "      <td>United States of America</td>\n",
              "      <td>NaN</td>\n",
              "      <td>103436829</td>\n",
              "      <td>476.0</td>\n",
              "      <td>1186509</td>\n",
              "    </tr>\n",
              "    <tr>\n",
              "      <th>52666</th>\n",
              "      <td>2024-04-28</td>\n",
              "      <td>United States of America</td>\n",
              "      <td>NaN</td>\n",
              "      <td>103436829</td>\n",
              "      <td>391.0</td>\n",
              "      <td>1186900</td>\n",
              "    </tr>\n",
              "    <tr>\n",
              "      <th>52667</th>\n",
              "      <td>2024-05-05</td>\n",
              "      <td>United States of America</td>\n",
              "      <td>NaN</td>\n",
              "      <td>103436829</td>\n",
              "      <td>379.0</td>\n",
              "      <td>1187279</td>\n",
              "    </tr>\n",
              "    <tr>\n",
              "      <th>52668</th>\n",
              "      <td>2024-05-12</td>\n",
              "      <td>United States of America</td>\n",
              "      <td>NaN</td>\n",
              "      <td>103436829</td>\n",
              "      <td>268.0</td>\n",
              "      <td>1187547</td>\n",
              "    </tr>\n",
              "    <tr>\n",
              "      <th>52669</th>\n",
              "      <td>2024-05-19</td>\n",
              "      <td>United States of America</td>\n",
              "      <td>NaN</td>\n",
              "      <td>103436829</td>\n",
              "      <td>224.0</td>\n",
              "      <td>1187771</td>\n",
              "    </tr>\n",
              "  </tbody>\n",
              "</table>\n",
              "<p>229 rows × 6 columns</p>\n",
              "</div>"
            ],
            "text/plain": [
              "      Date_reported                   Country  New_cases  Cumulative_cases  \\\n",
              "52441    2020-01-05  United States of America        NaN                 0   \n",
              "52442    2020-01-12  United States of America        NaN                 0   \n",
              "52443    2020-01-19  United States of America        NaN                 0   \n",
              "52444    2020-01-26  United States of America        7.0                 7   \n",
              "52445    2020-02-02  United States of America        2.0                 9   \n",
              "...             ...                       ...        ...               ...   \n",
              "52665    2024-04-21  United States of America        NaN         103436829   \n",
              "52666    2024-04-28  United States of America        NaN         103436829   \n",
              "52667    2024-05-05  United States of America        NaN         103436829   \n",
              "52668    2024-05-12  United States of America        NaN         103436829   \n",
              "52669    2024-05-19  United States of America        NaN         103436829   \n",
              "\n",
              "       New_deaths  Cumulative_deaths  \n",
              "52441         NaN                  0  \n",
              "52442         NaN                  0  \n",
              "52443         NaN                  0  \n",
              "52444         NaN                  0  \n",
              "52445         NaN                  0  \n",
              "...           ...                ...  \n",
              "52665       476.0            1186509  \n",
              "52666       391.0            1186900  \n",
              "52667       379.0            1187279  \n",
              "52668       268.0            1187547  \n",
              "52669       224.0            1187771  \n",
              "\n",
              "[229 rows x 6 columns]"
            ]
          },
          "execution_count": 80,
          "metadata": {},
          "output_type": "execute_result"
        }
      ],
      "source": [
        "pais_maior_mortes = dados_analise.set_index(\"Country\")[\"Cumulative_deaths\"].idxmax()\n",
        "mascara_dados_pais_maior_mortes = dados_analise[\"Country\"] == pais_maior_mortes\n",
        "dados_pais_maior_mortes = dados_analise[mascara_dados_pais_maior_mortes]\n",
        "dados_pais_maior_mortes"
      ]
    },
    {
      "cell_type": "code",
      "execution_count": 81,
      "id": "70f3f2c2",
      "metadata": {},
      "outputs": [
        {
          "data": {
            "text/html": [
              "<div>\n",
              "<style scoped>\n",
              "    .dataframe tbody tr th:only-of-type {\n",
              "        vertical-align: middle;\n",
              "    }\n",
              "\n",
              "    .dataframe tbody tr th {\n",
              "        vertical-align: top;\n",
              "    }\n",
              "\n",
              "    .dataframe thead th {\n",
              "        text-align: right;\n",
              "    }\n",
              "</style>\n",
              "<table border=\"1\" class=\"dataframe\">\n",
              "  <thead>\n",
              "    <tr style=\"text-align: right;\">\n",
              "      <th></th>\n",
              "      <th>Date_reported</th>\n",
              "      <th>Country</th>\n",
              "      <th>Cumulative_cases</th>\n",
              "      <th>Cumulative_deaths</th>\n",
              "    </tr>\n",
              "  </thead>\n",
              "  <tbody>\n",
              "    <tr>\n",
              "      <th>52441</th>\n",
              "      <td>2020-01-05</td>\n",
              "      <td>United States of America</td>\n",
              "      <td>0</td>\n",
              "      <td>0</td>\n",
              "    </tr>\n",
              "    <tr>\n",
              "      <th>52442</th>\n",
              "      <td>2020-01-12</td>\n",
              "      <td>United States of America</td>\n",
              "      <td>0</td>\n",
              "      <td>0</td>\n",
              "    </tr>\n",
              "    <tr>\n",
              "      <th>52443</th>\n",
              "      <td>2020-01-19</td>\n",
              "      <td>United States of America</td>\n",
              "      <td>0</td>\n",
              "      <td>0</td>\n",
              "    </tr>\n",
              "    <tr>\n",
              "      <th>52444</th>\n",
              "      <td>2020-01-26</td>\n",
              "      <td>United States of America</td>\n",
              "      <td>7</td>\n",
              "      <td>0</td>\n",
              "    </tr>\n",
              "    <tr>\n",
              "      <th>52445</th>\n",
              "      <td>2020-02-02</td>\n",
              "      <td>United States of America</td>\n",
              "      <td>9</td>\n",
              "      <td>0</td>\n",
              "    </tr>\n",
              "  </tbody>\n",
              "</table>\n",
              "</div>"
            ],
            "text/plain": [
              "      Date_reported                   Country  Cumulative_cases  \\\n",
              "52441    2020-01-05  United States of America                 0   \n",
              "52442    2020-01-12  United States of America                 0   \n",
              "52443    2020-01-19  United States of America                 0   \n",
              "52444    2020-01-26  United States of America                 7   \n",
              "52445    2020-02-02  United States of America                 9   \n",
              "\n",
              "       Cumulative_deaths  \n",
              "52441                  0  \n",
              "52442                  0  \n",
              "52443                  0  \n",
              "52444                  0  \n",
              "52445                  0  "
            ]
          },
          "execution_count": 81,
          "metadata": {},
          "output_type": "execute_result"
        }
      ],
      "source": [
        "pais_maior_numero_mortes = dados_pais_maior_mortes.dropna(axis=1)\n",
        "pais_maior_numero_mortes.head()"
      ]
    },
    {
      "cell_type": "code",
      "execution_count": 84,
      "id": "c9d18df5",
      "metadata": {},
      "outputs": [
        {
          "data": {
            "text/plain": [
              "Cumulative_cases     6.149125e+07\n",
              "Cumulative_deaths    7.596185e+05\n",
              "dtype: float64"
            ]
          },
          "execution_count": 84,
          "metadata": {},
          "output_type": "execute_result"
        }
      ],
      "source": [
        "pais_maior_numero_mortes[[\"Cumulative_cases\", \"Cumulative_deaths\"]].mean()"
      ]
    },
    {
      "cell_type": "code",
      "execution_count": 89,
      "id": "e3a38d98",
      "metadata": {},
      "outputs": [
        {
          "data": {
            "text/plain": [
              "<Axes: title={'center': 'Cumulative_cases'}>"
            ]
          },
          "execution_count": 89,
          "metadata": {},
          "output_type": "execute_result"
        },
        {
          "data": {
            "image/png": "[encoded data removed]",
            "text/plain": [
              "<Figure size 640x480 with 1 Axes>"
            ]
          },
          "metadata": {},
          "output_type": "display_data"
        }
      ],
      "source": [
        "pais_maior_numero_mortes['Cumulative_cases'].plot(kind=\"bar\", title='Cumulative_cases')"
      ]
    },
    {
      "cell_type": "code",
      "execution_count": 99,
      "id": "48751e11",
      "metadata": {},
      "outputs": [
        {
          "data": {
            "text/plain": [
              "<Axes: title={'center': 'Cumulative_deaths'}, ylabel='Frequency'>"
            ]
          },
          "execution_count": 99,
          "metadata": {},
          "output_type": "execute_result"
        },
        {
          "data": {
            "image/png": "[encoded data removed]",
            "text/plain": [
              "<Figure size 640x480 with 1 Axes>"
            ]
          },
          "metadata": {},
          "output_type": "display_data"
        }
      ],
      "source": [
        "pais_maior_numero_mortes['Cumulative_deaths'].plot(kind=\"hist\", title='Cumulative_deaths', bins=20)"
      ]
    }
  ],
  "metadata": {
    "colab": {
      "provenance": []
    },
    "kernelspec": {
      "display_name": "Python 3 (ipykernel)",
      "language": "python",
      "name": "python3"
    },
    "language_info": {
      "codemirror_mode": {
        "name": "ipython",
        "version": 3
      },
      "file_extension": ".py",
      "mimetype": "text/x-python",
      "name": "python",
      "nbconvert_exporter": "python",
      "pygments_lexer": "ipython3",
      "version": "3.11.4"
    }
  },
  "nbformat": 4,
  "nbformat_minor": 5
}
