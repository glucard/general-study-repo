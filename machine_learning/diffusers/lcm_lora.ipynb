{
 "cells": [
  {
   "cell_type": "code",
   "execution_count": null,
   "id": "88f4509f-6f12-4025-b1a3-518118ad4b81",
   "metadata": {},
   "outputs": [],
   "source": [
    "import torch\n",
    "from diffusers import AutoPipelineForInpainting, LCMScheduler\n",
    "from diffusers.utils import load_image, make_image_grid\n",
    "\n",
    "pipe = AutoPipelineForInpainting.from_pretrained(\n",
    "    \"diffusers/stable-diffusion-xl-1.0-inpainting-0.1\",\n",
    "    torch_dtype=torch.float16,\n",
    "    variant=\"fp16\",\n",
    ").to(\"cuda\")\n",
    "\n",
    "# set scheduler\n",
    "pipe.scheduler = LCMScheduler.from_config(pipe.scheduler.config)\n",
    "\n",
    "# load LCM-LoRA\n",
    "pipe.load_lora_weights(\"latent-consistency/lcm-lora-sdxl\")\n",
    "pipe.fuse_lora()\n",
    "\n"
   ]
  },
  {
   "cell_type": "code",
   "execution_count": null,
   "id": "0174ba8c-2ead-423c-9712-59ba28b282f1",
   "metadata": {},
   "outputs": [],
   "source": [
    "# load base and mask image\n",
    "init_image = load_image(\"./image/image.png\")\n",
    "init_size = init_image.size\n",
    "init_image = load_image(\"./image/image.png\").resize((1024, 1024))\n",
    "mask_image = load_image(\"./image/mask.png\").resize((1024, 1024))\n",
    "\n",
    "prompt = \"sword\"\n",
    "neg_prompt = \"food, sfw, plate\"\n",
    "image = pipe(\n",
    "    prompt=prompt,\n",
    "    negative_prompt=neg_prompt,\n",
    "    image=init_image,\n",
    "    mask_image=mask_image,\n",
    "    num_inference_steps=5,\n",
    "    guidance_scale=4,\n",
    ").images[0]\n",
    "make_image_grid([init_image, mask_image, image], rows=1, cols=3)"
   ]
  },
  {
   "cell_type": "code",
   "execution_count": null,
   "id": "c61bb8e4-82d6-40f3-ab7d-da2422f135b5",
   "metadata": {},
   "outputs": [],
   "source": [
    "image = image.resize(init_size)\n",
    "image"
   ]
  },
  {
   "cell_type": "code",
   "execution_count": null,
   "id": "733a2a4e-5400-4d99-b18e-98b0cb0fe4f0",
   "metadata": {},
   "outputs": [],
   "source": [
    "init_image.size"
   ]
  }
 ],
 "metadata": {
  "kernelspec": {
   "display_name": "Python 3 (ipykernel)",
   "language": "python",
   "name": "python3"
  },
  "language_info": {
   "codemirror_mode": {
    "name": "ipython",
    "version": 3
   },
   "file_extension": ".py",
   "mimetype": "text/x-python",
   "name": "python",
   "nbconvert_exporter": "python",
   "pygments_lexer": "ipython3",
   "version": "3.11.4"
  }
 },
 "nbformat": 4,
 "nbformat_minor": 5
}
